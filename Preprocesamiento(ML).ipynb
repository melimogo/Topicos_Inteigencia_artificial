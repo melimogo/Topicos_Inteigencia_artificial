{
 "cells": [
  {
   "cell_type": "markdown",
   "metadata": {},
   "source": [
    "# Aprendizaje de máquina \n",
    "El aprendizaje de máquina se divide en dos grandes áreas: \n",
    "1. **Aprendizaje Supervisado**\n",
    ">En el aprendizaje supervisado se entrena un clasificador para identificar la etiqueta de un elementyo nuevo. las entradas para este modelo son: \n",
    "$\\mathbf{x}$ la matriz de datos de dimension $n\\times p$, donde $n$ es el numero de observaciones y $p$ es el número de caracteristicas, y el conjunto de etiquetas $C=[c_1,c_2,\\ldots,c_k]$, donde $k$ es el número de clases.\n",
    "\n",
    "2. **Aprendizaje no Supervisado** \n",
    ">En el aprendizaje no supervisado, intenta agrupar el conjunto de datos, de tal foma que la separacon entre los grupos sea la mas conveniendte. En este caso la entrada va a estar dad solo por la matriz de datos $\\mathbf{x}$, deinida por:\n",
    "\n",
    "$$\\mathbf{X}=\\left[\\begin{array}{cccc}\n",
    "x_{11} & x_{12} & \\ldots & x_{1p}\\\\\n",
    "x_{21} & x_{22} & \\ldots & x_{2p}\\\\\n",
    "\\vdots& \\vdots & \\ldots &\\vdots\\\\ \n",
    "x_{n1} & x_{n2} & \\ldots & x_{np}\\\\\n",
    "\\end{array}\\right]$$\n",
    "\n",
    "De forma general, un modelo de ML tiene las siguientes etapas: \n",
    "\n",
    "1. *Adquisición de datos.*\n",
    "2. *Acondicionamiento de los datos (filtrado y remoción de artefactos).*\n",
    "3. *Caracterización*\n",
    "4. ***Preprocesamiento de las caracteristicas***\n",
    "5. *Reducción de dimensión*\n",
    "6. ***Aplicación del modelo ML***\n",
    "7. ***Análisis del resultado***\n"
   ]
  },
  {
   "cell_type": "markdown",
   "metadata": {},
   "source": [
    "## Aprendizaje Supervisado\n",
    "Con el fin de aplicar un modelo supervisador para la clasificación de datos, es necesario iniciar con la carga o adquisicion de los datos, en nuestro caso será una matriz $\\mathbf{X}$ artificial:\n",
    "\n",
    "$$\\mathbf{X}=\\left[\\begin{array}{cccc}\n",
    "5.1 & -2.9 & 3.3\\\\\n",
    "-1.2 & 7.8 & -6.1\\\\\n",
    "3.9 & 0.4 & 2.1\\\\\n",
    "7.3 & -9.9 & -4.5\\\\\n",
    "\\end{array}\\right]$$\n",
    "\n",
    "En este caso tendremos 4 observaciones y 3 caracteristicas\n",
    "\n",
    "\n"
   ]
  },
  {
   "cell_type": "code",
   "execution_count": 1,
   "metadata": {},
   "outputs": [
    {
     "name": "stdout",
     "output_type": "stream",
     "text": [
      "La matriz de datos es:\n",
      " [[ 5.1 -2.9  3.3]\n",
      " [-1.2  7.8 -6.1]\n",
      " [ 3.9  0.4  2.1]\n",
      " [ 7.3 -9.9 -4.5]]\n"
     ]
    }
   ],
   "source": [
    "import numpy as np\n",
    "\n",
    "X = np.array([[5.1,-2.9,3.3],[-1.2,7.8,-6.1],[3.9,0.4,2.1],[7.3,-9.9,-4.5]])\n",
    "print('La matriz de datos es:\\n',X) #imprimir la matriz de datos"
   ]
  },
  {
   "cell_type": "markdown",
   "metadata": {},
   "source": [
    "## Preprocesamiento de la matriz de datos\n",
    "\n",
    "la idea de esta etapa es dar uniformidad a las caracteristicas con el fin de no sesgar el clasificador. Hay diferentes tipos de prepocesamiento entre los que se encuentran:\n",
    "\n",
    "1. Binarización\n",
    "2. Remoción de la media\n",
    "3. Escalamiento\n",
    "4. Nomrmalización\n",
    "\n"
   ]
  },
  {
   "cell_type": "markdown",
   "metadata": {},
   "source": [
    "## Binarización: \n",
    "Consiste en convertir las caracteristi as en variables Booleanas(True,False) o (1,0)\n",
    "\n",
    "### Pasos: \n",
    "1. Definir un umbral\n",
    "2. recorrer el umbral\n",
    "\n"
   ]
  },
  {
   "cell_type": "code",
   "execution_count": 2,
   "metadata": {
    "collapsed": true
   },
   "outputs": [],
   "source": [
    "# Hacemos la funcion de binarización \n",
    "def Binarizacion(X,gama):\n",
    "    filas = np.shape(X)[0]\n",
    "    columnas = np.shape(X)[1]\n",
    "    for i in range(filas):\n",
    "        for j in range(columnas):\n",
    "            if X[i][j] >= gamma:\n",
    "                X[i][j] = 1\n",
    "            else:\n",
    "                X[i][j] = 0\n",
    "    return X"
   ]
  },
  {
   "cell_type": "code",
   "execution_count": 3,
   "metadata": {},
   "outputs": [
    {
     "name": "stdout",
     "output_type": "stream",
     "text": [
      "Ingrese el valor de gamma: 2.1\n",
      "[[ 1.  0.  1.]\n",
      " [ 0.  1.  0.]\n",
      " [ 1.  0.  1.]\n",
      " [ 1.  0.  0.]]\n"
     ]
    }
   ],
   "source": [
    "#preguntamos el valor de gamma \n",
    "gamma = float(input('Ingrese el valor de gamma: '))\n",
    "datos_binarizados = Binarizacion(X,gamma)\n",
    "print(datos_binarizados)"
   ]
  },
  {
   "cell_type": "markdown",
   "metadata": {},
   "source": [
    "### Remoción de la media\n",
    "La idea con este preprocesamiento es eliminar la tendencia en los datos.\n",
    "La operacion que se realiza sobre la matriz de datos es la siquiente: \n",
    "\n",
    "$$\\frac{\\mathbf{X}-\\mathbf{\\hat{X}}}{\\sigma_{\\mathbf{X}}}$$\n",
    "\n",
    "donde $\\mathbf{\\hat{X}}$ es la media y ${\\sigma_{\\mathbf{X}}}$ es la desviación"
   ]
  },
  {
   "cell_type": "code",
   "execution_count": null,
   "metadata": {
    "collapsed": true
   },
   "outputs": [],
   "source": []
  },
  {
   "cell_type": "code",
   "execution_count": 4,
   "metadata": {},
   "outputs": [
    {
     "name": "stdout",
     "output_type": "stream",
     "text": [
      "La media de las caracteristicas es:\n",
      "  [ 0.75  0.25  0.5 ]\n",
      "La desviacion de las caracteristicas es:\n",
      "  [ 0.4330127  0.4330127  0.5      ]\n"
     ]
    }
   ],
   "source": [
    "# Revisamos la media y la desviación actual de los datos\n",
    "media = X.mean(axis=0)\n",
    "print('La media de las caracteristicas es:\\n ',media)\n",
    "desviacion = X.std(axis = 0)\n",
    "print('La desviacion de las caracteristicas es:\\n ',desviacion)\n"
   ]
  },
  {
   "cell_type": "code",
   "execution_count": 5,
   "metadata": {
    "collapsed": true
   },
   "outputs": [],
   "source": [
    "# hacemos la funcion para la remocion de la media\n",
    "def Remocion(X):\n",
    "    X = X - X.mean(axis=0)\n",
    "    X = X/X.std(axis=0)\n",
    "    return X\n",
    "    "
   ]
  },
  {
   "cell_type": "code",
   "execution_count": 6,
   "metadata": {},
   "outputs": [
    {
     "name": "stdout",
     "output_type": "stream",
     "text": [
      "La media de las caracteristicas es:\n",
      "  [  5.55111512e-17  -5.55111512e-17   0.00000000e+00]\n",
      "La desviacion de las caracteristicas es:\n",
      "  [ 1.  1.  1.]\n"
     ]
    }
   ],
   "source": [
    "# Aplicamos el preprocesamiento \n",
    "datos_centralizados = Remocion(X)\n",
    "media = datos_centralizados.mean(axis=0)\n",
    "print('La media de las caracteristicas es:\\n ',media)\n",
    "desviacion = datos_centralizados.std(axis = 0)\n",
    "print('La desviacion de las caracteristicas es:\\n ',desviacion)"
   ]
  },
  {
   "cell_type": "markdown",
   "metadata": {},
   "source": [
    "### Escalamiento\n",
    "La idea del escalamiento es mdeir con la misma *regla* a todas las caracteristicas, para ello se realiza la siguiente operación:\n",
    "\n",
    "$$\\frac{\\mathbf{X}-min(\\mathbf{X})}{max(\\mathbf{X})-min(\\mathbf{X})}$$"
   ]
  },
  {
   "cell_type": "code",
   "execution_count": 7,
   "metadata": {},
   "outputs": [
    {
     "ename": "ValueError",
     "evalue": "The truth value of an array with more than one element is ambiguous. Use a.any() or a.all()",
     "output_type": "error",
     "traceback": [
      "\u001b[1;31m---------------------------------------------------------------------------\u001b[0m",
      "\u001b[1;31mValueError\u001b[0m                                Traceback (most recent call last)",
      "\u001b[1;32m<ipython-input-7-2afc1dacf2c9>\u001b[0m in \u001b[0;36m<module>\u001b[1;34m()\u001b[0m\n\u001b[0;32m      1\u001b[0m \u001b[1;31m# revisamos los maximos y minimos por filas\u001b[0m\u001b[1;33m\u001b[0m\u001b[1;33m\u001b[0m\u001b[0m\n\u001b[1;32m----> 2\u001b[1;33m \u001b[0mal\u001b[0m \u001b[1;33m=\u001b[0m \u001b[0mmin\u001b[0m\u001b[1;33m(\u001b[0m\u001b[0mX\u001b[0m\u001b[1;33m)\u001b[0m\u001b[1;33m\u001b[0m\u001b[0m\n\u001b[0m",
      "\u001b[1;31mValueError\u001b[0m: The truth value of an array with more than one element is ambiguous. Use a.any() or a.all()"
     ]
    }
   ],
   "source": [
    "# revisamos los maximos y minimos por filas\n",
    "al = min(X)"
   ]
  },
  {
   "cell_type": "code",
   "execution_count": null,
   "metadata": {
    "collapsed": true
   },
   "outputs": [],
   "source": [
    "# funcion escalamiento\n",
    "def Escalamiento(X):\n",
    "    X = X - X.min(axis=0)\n",
    "    X = X/(X.max(axis=0) - X.min(axis=0))\n",
    "    return X\n",
    "    "
   ]
  },
  {
   "cell_type": "code",
   "execution_count": null,
   "metadata": {
    "collapsed": true
   },
   "outputs": [],
   "source": [
    "datos_Escalados = Escalamiento(X)\n",
    "print('La media de las caracteristicas es:\\n ',datos_Escalados)"
   ]
  },
  {
   "cell_type": "markdown",
   "metadata": {},
   "source": [
    "### Normalización\n",
    "\n",
    "Con la normalización podemos alcanzar dos objetivos diferentes, aunque ambos intenta *medir* las caracteristicas de cada observación con la misma *regla* \n",
    "\n",
    "1. Nomalización $L_1$:\n",
    "> Con la normalización $L_1$ es podible eliminar la influencia de los valores atípicos(*outliers*). La idea de esta normalización es que la suma del valor absoluto de cada observacion sea unitaria. i.e.:\n",
    "\n",
    " $$ \\sum_{j=i}^{p}||x_{ij}||=1, \\quad\\quad \\forall i=1,\\dots,n$$\n",
    " \n",
    "2. Normalización $L_2$: \n",
    "> Con esta es mas posible hace más notable la influencia de los valores atípicos (*outliers*). La idea de esta normalización es la suma del valor absoluto al cuadrado sea unitaria. i.e.:\n",
    "\n",
    " $$  \\sum_{j=i}^{p}||x_{ij}||^2=1, \\quad\\quad \\forall i=1,\\dots,n$$"
   ]
  },
  {
   "cell_type": "markdown",
   "metadata": {},
   "source": [
    "#### Normalización por la norma 1:"
   ]
  },
  {
   "cell_type": "code",
   "execution_count": null,
   "metadata": {
    "collapsed": true
   },
   "outputs": [],
   "source": [
    "# Normalización L_1\n",
    "def Normal1(X):\n",
    "    Y = np.linalg.norm(X,ord=1,axis=1)  \n",
    "    filas = np.shape(X)[0]\n",
    "    columnas = np.shape(X)[1]\n",
    "    for i in range(filas):\n",
    "        for j in range(columnas):\n",
    "            X[i][j] = X[i][j] / Y[i] \n",
    "    return X\n"
   ]
  },
  {
   "cell_type": "code",
   "execution_count": null,
   "metadata": {
    "collapsed": true
   },
   "outputs": [],
   "source": [
    "datos_Norma1 = Normal1(X)\n",
    "print('La Norma 1 de las matriz es:\\n ',datos_Norma1)"
   ]
  },
  {
   "cell_type": "markdown",
   "metadata": {},
   "source": [
    "#### Normalización por la norma 2:"
   ]
  },
  {
   "cell_type": "code",
   "execution_count": null,
   "metadata": {
    "collapsed": true
   },
   "outputs": [],
   "source": [
    "def Normal2(X):\n",
    "    Y = np.linalg.norm(X,ord=2,axis=1)  \n",
    "    filas = np.shape(X)[0]\n",
    "    columnas = np.shape(X)[1]\n",
    "    for i in range(filas):\n",
    "        for j in range(columnas):\n",
    "            X[i][j] = X[i][j] / Y[i] \n",
    "    return X"
   ]
  },
  {
   "cell_type": "code",
   "execution_count": null,
   "metadata": {
    "collapsed": true
   },
   "outputs": [],
   "source": [
    "datos_Norma2 = Normal2(X)\n",
    "print('La Norma 1 de las matriz es:\\n ',datos_Norma2)"
   ]
  },
  {
   "cell_type": "markdown",
   "metadata": {},
   "source": [
    "## Codificación de etiquetas\n"
   ]
  },
  {
   "cell_type": "code",
   "execution_count": 1,
   "metadata": {},
   "outputs": [
    {
     "name": "stdout",
     "output_type": "stream",
     "text": [
      "[0, 1, 2, 3]\n",
      "{'gato': 0, 'perros': 1, 'ratones': 2, 'Rinocerontes': 3}\n"
     ]
    }
   ],
   "source": [
    "# Función para el cambio del texto a numeros\n",
    "e_tiq = ['gato','perros','ratones','Rinocerontes']\n",
    "#e_tiq = input('Ingrese de etiquetas: ')\n",
    "#e_tiq = list()\n",
    "e_size = len(e_tiq)\n",
    "\n",
    "dic = dict()\n",
    "\n",
    "a = list(range(e_size))\n",
    "print(a)\n",
    "for i in range(e_size):\n",
    "    dic[e_tiq[i]] = a[i]\n",
    "print(dic)"
   ]
  },
  {
   "cell_type": "code",
   "execution_count": 20,
   "metadata": {
    "collapsed": true
   },
   "outputs": [],
   "source": [
    "# Funcion para el almacenamiento de etiquetas\n",
    "def ingreso_Etiquetas(e_tiq):\n",
    "    dic = dict()\n",
    "    a = list(range(len(e_tiq)))\n",
    "    for i in range(len(e_tiq)):\n",
    "        dic[e_tiq[i]] = a[i]\n",
    "    return dic\n",
    "    "
   ]
  },
  {
   "cell_type": "code",
   "execution_count": 21,
   "metadata": {
    "collapsed": true
   },
   "outputs": [],
   "source": [
    "# Funcion para cambiar una matriz de nombres a numeros\n",
    "def cambio_Datos(mat,dicc):\n",
    "    new_mat = []\n",
    "    for i in range(len(mat)):\n",
    "        new_mat.append(dicc[mat[i]])\n",
    "    return new_mat\n",
    "    "
   ]
  },
  {
   "cell_type": "code",
   "execution_count": 23,
   "metadata": {},
   "outputs": [
    {
     "name": "stdout",
     "output_type": "stream",
     "text": [
      "{'gato': 0, 'perros': 1, 'ratones': 2, 'Rinocerontes': 3}\n",
      "[0, 1, 2, 3, 1, 1, 0]\n"
     ]
    }
   ],
   "source": [
    "#Pruebas del cambio de las etiquetas\n",
    "#Ejemplos\n",
    "etiquetas = ['gato','perros','ratones','Rinocerontes']\n",
    "dicc = ingreso_Etiquetas(etiquetas)\n",
    "print(dicc)\n",
    "matriz_etiquetas = ['gato','perros','ratones','Rinocerontes','perros','perros', 'gato']\n",
    "mat_new = cambio_Datos(matriz_etiquetas,dicc)\n",
    "print(mat_new)\n"
   ]
  }
 ],
 "metadata": {
  "kernelspec": {
   "display_name": "Python 3",
   "language": "python",
   "name": "python3"
  },
  "language_info": {
   "codemirror_mode": {
    "name": "ipython",
    "version": 3
   },
   "file_extension": ".py",
   "mimetype": "text/x-python",
   "name": "python",
   "nbconvert_exporter": "python",
   "pygments_lexer": "ipython3",
   "version": "3.6.1"
  }
 },
 "nbformat": 4,
 "nbformat_minor": 2
}
