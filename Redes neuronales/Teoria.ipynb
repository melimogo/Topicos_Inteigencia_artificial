{
 "cells": [
  {
   "cell_type": "markdown",
   "metadata": {},
   "source": [
    "# Redes neuronales\n",
    "\n",
    "* Perceptron: \n",
    "\n",
    "        - No hay capas ocultas, solo de entradas y salidas\n",
    "        - Ficha de lego para contruir todo. Unidad funcional\n",
    "        \n",
    "* Aprendizaje profundo: \n",
    "        \n",
    "        - Tiene capas entre la inicial y la final\n",
    "\n",
    "## Operaciones o aprendizajes: \n",
    "\n",
    "1. Clasificacion: \n",
    "\n",
    "          * Cuando la y es la etiqueta, capa de salida\n",
    "          * Que valor le doy \n",
    "2. Regresion: \n",
    "\n",
    "          * Cuando las y son valores\n",
    "          * Que valos obtengo\n",
    "            \n",
    "## Entrenar: \n",
    "\n",
    "Beneficio: El se entrena y se predice solo\n",
    "\n",
    "Tecnicas: \n",
    "\n",
    "    - Feed Forward: Calibrar las capas\n",
    "    - Backward propagation: Lo termina y al final avisa que hizo mal\n",
    "    \n",
    "    \n",
    "## Desventajas: \n",
    "\n",
    "    No hay manejo de lo que pasa adentro.\n",
    "    Se sobre entrena, Cuando la solucion es unica para un problema especifico, y aplico otro diferente.\n",
    "    Si se entregan muchos datos para entrenar y pocos para \n",
    "\n",
    "\n",
    "## Ventajas: \n",
    "\n",
    "    No es necesario definir los parametros.\n",
    "    Se necesitan etiquetas\n",
    "\n",
    "\n"
   ]
  },
  {
   "cell_type": "code",
   "execution_count": null,
   "metadata": {
    "collapsed": true
   },
   "outputs": [],
   "source": []
  }
 ],
 "metadata": {
  "kernelspec": {
   "display_name": "Python 3",
   "language": "python",
   "name": "python3"
  },
  "language_info": {
   "codemirror_mode": {
    "name": "ipython",
    "version": 3
   },
   "file_extension": ".py",
   "mimetype": "text/x-python",
   "name": "python",
   "nbconvert_exporter": "python",
   "pygments_lexer": "ipython3",
   "version": "3.6.1"
  }
 },
 "nbformat": 4,
 "nbformat_minor": 2
}
