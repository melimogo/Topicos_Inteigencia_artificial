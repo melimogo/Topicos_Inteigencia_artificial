{
 "cells": [
  {
   "cell_type": "code",
   "execution_count": 24,
   "metadata": {},
   "outputs": [
    {
     "name": "stdout",
     "output_type": "stream",
     "text": [
      "La matriz de datos es:\n",
      " [[ 5.1 -2.9  3.3]\n",
      " [-1.2  7.8 -6.1]\n",
      " [ 3.9  0.4  2.1]\n",
      " [ 7.3 -9.9 -4.5]]\n",
      "la media es: \n",
      " [ 3.775 -1.15  -1.3  ]\n",
      "La matriz de datos es:\n",
      " [[ 1. -1.  1.]\n",
      " [-1.  1. -1.]\n",
      " [ 1.  1.  1.]\n",
      " [ 1. -1. -1.]]\n"
     ]
    }
   ],
   "source": [
    "import numpy as np\n",
    "\n",
    "# se cargan los datos\n",
    "X = np.array([[5.1,-2.9,3.3],[-1.2,7.8,-6.1],[3.9,0.4,2.1],[7.3,-9.9,-4.5]])\n",
    "print('La matriz de datos es:\\n',X) #imprimir la matriz de datos\n",
    " \n",
    "# definimos la funcion para la normalizacion\n",
    "def Nueva_Norma(X):\n",
    "    #obtenemos la media\n",
    "    media = X.mean(axis=0)\n",
    "    #tamaños de las filas y columnas\n",
    "    filas = np.shape(X)[0]\n",
    "    columnas = np.shape(X)[1]\n",
    "    # para recorrer filas y columnas\n",
    "    for i in range(filas):\n",
    "        for j in range(columnas):\n",
    "            #comparamos los valores con referencia a la media de cada columna\n",
    "            if X[i][j] > media[j]:\n",
    "                X[i][j] = 1\n",
    "            else:\n",
    "                X[i][j] = -1\n",
    "    return X\n",
    "\n",
    "#imprimimos los valores normalizados\n",
    "datos_normalizados = Nueva_Norma(X)\n",
    "print('La matriz de datos es:\\n',datos_normalizados )\n",
    "\n"
   ]
  }
 ],
 "metadata": {
  "kernelspec": {
   "display_name": "Python 3",
   "language": "python",
   "name": "python3"
  },
  "language_info": {
   "codemirror_mode": {
    "name": "ipython",
    "version": 3
   },
   "file_extension": ".py",
   "mimetype": "text/x-python",
   "name": "python",
   "nbconvert_exporter": "python",
   "pygments_lexer": "ipython3",
   "version": "3.6.1"
  }
 },
 "nbformat": 4,
 "nbformat_minor": 2
}
