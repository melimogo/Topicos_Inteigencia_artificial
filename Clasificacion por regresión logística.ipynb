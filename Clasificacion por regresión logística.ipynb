{
 "cells": [
  {
   "cell_type": "markdown",
   "metadata": {},
   "source": [
    "## Regresión logística \n",
    "\n",
    "El clasificador de regresion logistica, se utilixa para problemas bicalses y en donde las clases son linealmente separables. Sus prestaciones se pueden extender a problemas multiclase a través de la técnica *one vs rest* u OvR. este clasificador parte de la probabilidad a favor de un determinado evento, definida por la *razon de momios*\n",
    "\n",
    "\n",
    "\n",
    "1. Función para clases linealmente separables \n",
    "\n",
    "2. Problemas binarios o biclase: One vs REst(OvR. Extiende los problemas multiclases existen dos clases. clase control y clase de caso\n",
    "\n",
    "### Razón de momios\n",
    "Definicion: \"odds ratio\" que tan favorecido esta un evento\n",
    "\n",
    "Funcion: \n",
    "\n",
    "$${OR}=\\frac{p}{1-p},$$\n",
    "\n",
    "donde $p$ es la probabilidad del evento.\n",
    "\n",
    "Al OR le podemos calcular el logaritmo para obtener la función **logit**\n",
    "\n",
    "$$logit(p)=\\log\\frac{p}{1-p}$$\n",
    "\n",
    "En términos de los parametros de entrada de nuestro calsificador tendremos:\n",
    "\n",
    "$$logit(p)=logit(p(y=1|\\mathbf{x}))=w_0x_0+w_1x_1+\\dots+w_{1-p}x_{1-p}=\\sum_{i=0}^{1-p}w_ix_i=\\mathbf{w}^{\\top}\\mathbf{x}$$\n",
    "\n",
    "lo que queremos hace es depejar la probabilidad del evento, que se va a relacionar con la probabilidad de que una observación pertenezca a la clase con etiqueta $y=1$. Para ella utilizamos la función inversa, que se denomina **sigmoide**\n",
    "\n",
    "$$\\phi(z)=\\frac{1}{1+e^{-z}}$$\n",
    "\n",
    "Graficamente tendremos:"
   ]
  },
  {
   "cell_type": "code",
   "execution_count": 4,
   "metadata": {
    "collapsed": true
   },
   "outputs": [],
   "source": [
    "import matplotlib.pyplot as plt #libreria para graficar\n",
    "import numpy as np #libreria numérica\n",
    "\n",
    "# definimos la funcion sigmoide\n",
    "def sigmoide(z):\n",
    "    funcion_sigmoide = 1.0/(1.0 + np.exp(-z))\n",
    "    return funcion_sigmoide"
   ]
  },
  {
   "cell_type": "code",
   "execution_count": 12,
   "metadata": {},
   "outputs": [
    {
     "data": {
      "image/png": "[encoded data removed]",
      "text/plain": [
       "<matplotlib.figure.Figure at 0x206515429b0>"
      ]
     },
     "metadata": {},
     "output_type": "display_data"
    }
   ],
   "source": [
    "# para probarla necesitamos un vector de entrada que es Z\n",
    "z = np.mgrid[-10:10:0.1] #declaramos un arreglo tipo mesh grid\n",
    "fi = sigmoide(z)\n",
    "\n",
    "# para la gráfica\n",
    "plt.plot(z,fi,color='b')\n",
    "plt.axvline(0,0,color='k') #trazamos una linea verical por (0,0) de color negro\n",
    "plt.axhline(y=0.5,ls='dotted',color='k') #linea horizaontal por 0.5, punteada y de color negro\n",
    "plt.ylabel('$\\phi(z)$')\n",
    "plt.xlabel('z')\n",
    "plt.show()\n"
   ]
  },
  {
   "cell_type": "markdown",
   "metadata": {},
   "source": [
    "# Base de datos (Iris)\n",
    "\n",
    "la base de datos Iris es muy utilizada para probar los algoritmos de ML.\n",
    "Consiste en 150 observaciones y 3 clases (50 observaciones por clases). Las tres clases son las siguientes: *Iris Setosa*, *Iris Versicolor*, *Iris Virginica*. Cada Observación tiene 4 caracteristicas: largo y ancho del sépalo y el largo y ancho del pétalo.\n",
    "\n",
    "![Iris](https://upload.wikimedia.org/wikipedia/commons/thumb/c/c5/P%C3%A9talo-s%C3%A9palo.jpg/220px-P%C3%A9talo-s%C3%A9palo.jpg)"
   ]
  },
  {
   "cell_type": "code",
   "execution_count": 14,
   "metadata": {},
   "outputs": [
    {
     "name": "stdout",
     "output_type": "stream",
     "text": [
      "[0 1 2]\n"
     ]
    }
   ],
   "source": [
    "# Para cargar la base de datos\n",
    "from sklearn import datasets\n",
    "\n",
    "iris = datasets.load_iris()   #Se carga la base de datos\n",
    "X = iris.data[:,[2,3]]        #La matriz de datos (solo se toman 2 carac. para la visualización)\n",
    "y = iris.target               #las etiquetas\n",
    "print(np.unique(y))"
   ]
  },
  {
   "cell_type": "code",
   "execution_count": 43,
   "metadata": {},
   "outputs": [
    {
     "data": {
      "text/plain": [
       "LogisticRegression(C=1.0, class_weight=None, dual=False, fit_intercept=True,\n",
       "          intercept_scaling=1, max_iter=100, multi_class='ovr', n_jobs=1,\n",
       "          penalty='l2', random_state=0, solver='liblinear', tol=0.0001,\n",
       "          verbose=0, warm_start=False)"
      ]
     },
     "execution_count": 43,
     "metadata": {},
     "output_type": "execute_result"
    }
   ],
   "source": [
    "from sklearn.linear_model import LogisticRegression   #Importa las fxn de validacion cruzadas\n",
    "from sklearn.cross_validation import train_test_split #Importa las funciones de validación cruzada\n",
    "from sklearn.preprocessing import StandardScaler      #Importar las funciones de preparacion \n",
    "\n",
    "#hacemos la división del conjunto de entrenamiento y el conjunto de validación\n",
    "\n",
    "X_train , X_test , y_train , y_test = train_test_split(X,y,test_size=0.3, random_state = 0)\n",
    "\n",
    "#nomralizacion de x_train\n",
    "x_norm_train,t_train_mean,t_train_desv = Remocion(X_train)\n",
    "#Normalizacion para x_test\n",
    "x_norm_test = Remocion_test(X_test,t_train_mean,t_train_desv)\n",
    "\n",
    "#Entrenamos el clasificador\n",
    "clasificador = LogisticRegression(C=1.0,random_state=0) # C es el parametro\n",
    "clasificador.fit(x_norm_train, y_train) # entrenamiento del clasificador\n",
    "\n"
   ]
  },
  {
   "cell_type": "code",
   "execution_count": 44,
   "metadata": {},
   "outputs": [
    {
     "name": "stdout",
     "output_type": "stream",
     "text": [
      "Las muestras mal clasificadas fueron de 9 \n"
     ]
    }
   ],
   "source": [
    "# para validar el clasificador\n",
    "y_pred = clasificador.predict(x_norm_test)\n",
    "print('Las muestras mal clasificadas fueron de %d '%(y_test != y_pred).sum())"
   ]
  },
  {
   "cell_type": "code",
   "execution_count": 37,
   "metadata": {
    "collapsed": true
   },
   "outputs": [],
   "source": [
    "#Remoción para x_train\n",
    "def Remocion(X):\n",
    "    med = X.mean(axis=0)\n",
    "    des = X.std(axis=0)\n",
    "    X = X - med\n",
    "    X = X/des\n",
    "    return X,med, des"
   ]
  },
  {
   "cell_type": "code",
   "execution_count": 38,
   "metadata": {
    "collapsed": true
   },
   "outputs": [],
   "source": [
    "#Remocion para x_test\n",
    "def Remocion_test(X,med,des):\n",
    "    X = X - med\n",
    "    X = X/des\n",
    "    return X"
   ]
  },
  {
   "cell_type": "code",
   "execution_count": null,
   "metadata": {
    "collapsed": true
   },
   "outputs": [],
   "source": [
    "\n"
   ]
  }
 ],
 "metadata": {
  "kernelspec": {
   "display_name": "Python 3",
   "language": "python",
   "name": "python3"
  },
  "language_info": {
   "codemirror_mode": {
    "name": "ipython",
    "version": 3
   },
   "file_extension": ".py",
   "mimetype": "text/x-python",
   "name": "python",
   "nbconvert_exporter": "python",
   "pygments_lexer": "ipython3",
   "version": "3.6.1"
  }
 },
 "nbformat": 4,
 "nbformat_minor": 2
}
