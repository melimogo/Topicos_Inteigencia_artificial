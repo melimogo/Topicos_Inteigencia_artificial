{
 "cells": [
  {
   "cell_type": "markdown",
   "metadata": {},
   "source": [
    "## Regresión logística \n",
    "\n",
    "El clasificador de regresion logistica, se utilixa para problemas bicalses y en donde las clases son linealmente separables. Sus prestaciones se pueden extender a problemas multiclase a través de la técnica *one vs rest* u OvR. este clasificador parte de la probabilidad a favor de un determinado evento, definida por la *razon de momios*\n",
    "\n",
    "\n",
    "\n",
    "1. Función para clases linealmente separables \n",
    "\n",
    "2. Problemas binarios o biclase: One vs REst (OvR. Extiende los problemas multiclases existen dos clases. clase control y clase de caso)\n",
    "\n",
    "### Razón de momios\n",
    "Definicion: \"odds ratio\" que tan favorecido esta un evento\n",
    "\n",
    "Funcion: \n",
    "\n",
    "$${OR}=\\frac{p}{1-p},$$\n",
    "\n",
    "donde $p$ es la probabilidad del evento.\n",
    "\n",
    "Al OR le podemos calcular el logaritmo para obtener la función **logit**\n",
    "\n",
    "$$logit(p)=\\log\\frac{p}{1-p}$$\n",
    "\n",
    "En términos de los parametros de entrada de nuestro calsificador tendremos:\n",
    "\n",
    "$$logit(p)=logit(p(y=1|\\mathbf{x}))=w_0x_0+w_1x_1+\\dots+w_{1-p}x_{1-p}=\\sum_{i=0}^{1-p}w_ix_i=\\mathbf{w}^{\\top}\\mathbf{x}$$\n",
    "\n",
    "lo que queremos hace es depejar la probabilidad del evento, que se va a relacionar con la probabilidad de que una observación pertenezca a la clase con etiqueta $y=1$. Para ella utilizamos la función inversa, que se denomina **sigmoide**\n",
    "\n",
    "$$\\phi(z)=\\frac{1}{1+e^{-z}}$$\n",
    "\n",
    "Graficamente tendremos:"
   ]
  },
  {
   "cell_type": "code",
   "execution_count": 4,
   "metadata": {
    "collapsed": true
   },
   "outputs": [],
   "source": [
    "import matplotlib.pyplot as plt #libreria para graficar\n",
    "import numpy as np #libreria numérica\n",
    "\n",
    "# definimos la funcion sigmoide\n",
    "def sigmoide(z):\n",
    "    funcion_sigmoide = 1.0/(1.0 + np.exp(-z))\n",
    "    return funcion_sigmoide"
   ]
  },
  {
   "cell_type": "code",
   "execution_count": 5,
   "metadata": {},
   "outputs": [
    {
     "data": {
      "image/png": "[encoded data removed]",
      "text/plain": [
       "<matplotlib.figure.Figure at 0xc13a9ad198>"
      ]
     },
     "metadata": {},
     "output_type": "display_data"
    }
   ],
   "source": [
    "# para probarla necesitamos un vector de entrada que es Z\n",
    "z = np.mgrid[-10:10:0.1] #declaramos un arreglo tipo mesh grid\n",
    "fi = sigmoide(z)\n",
    "\n",
    "# para la gráfica\n",
    "plt.plot(z,fi,color='b')\n",
    "plt.axvline(0,0,color='k') #trazamos una linea verical por (0,0) de color negro\n",
    "plt.axhline(y=0.5,ls='dotted',color='k') #linea horizaontal por 0.5, punteada y de color negro\n",
    "plt.ylabel('$\\phi(z)$')\n",
    "plt.xlabel('z')\n",
    "plt.show()\n"
   ]
  },
  {
   "cell_type": "markdown",
   "metadata": {},
   "source": [
    "# Base de datos (Iris)\n",
    "\n",
    "la base de datos Iris es muy utilizada para probar los algoritmos de ML.\n",
    "Consiste en 150 observaciones y 3 clases (50 observaciones por clases). Las tres clases son las siguientes: *Iris Setosa*, *Iris Versicolor*, *Iris Virginica*. Cada Observación tiene 4 caracteristicas: largo y ancho del sépalo y el largo y ancho del pétalo.\n",
    "\n",
    "![Iris](https://upload.wikimedia.org/wikipedia/commons/thumb/c/c5/P%C3%A9talo-s%C3%A9palo.jpg/220px-P%C3%A9talo-s%C3%A9palo.jpg)"
   ]
  },
  {
   "cell_type": "code",
   "execution_count": 2,
   "metadata": {},
   "outputs": [
    {
     "name": "stderr",
     "output_type": "stream",
     "text": [
      "C:\\Users\\USUARIO\\Anaconda3\\lib\\site-packages\\sklearn\\cross_validation.py:44: DeprecationWarning: This module was deprecated in version 0.18 in favor of the model_selection module into which all the refactored classes and functions are moved. Also note that the interface of the new CV iterators are different from that of this module. This module will be removed in 0.20.\n",
      "  \"This module will be removed in 0.20.\", DeprecationWarning)\n"
     ]
    }
   ],
   "source": [
    "# Para cargar la base de datos\n",
    "from sklearn import datasets\n",
    "from sklearn.linear_model import LogisticRegression   #Importa las fxn de validacion cruzadas\n",
    "from sklearn.cross_validation import train_test_split #Importa las funciones de validación cruzada\n",
    "from sklearn.preprocessing import StandardScaler      #Importar las funciones de preparacion "
   ]
  },
  {
   "cell_type": "code",
   "execution_count": 6,
   "metadata": {},
   "outputs": [
    {
     "name": "stdout",
     "output_type": "stream",
     "text": [
      "[0 1 2]\n"
     ]
    }
   ],
   "source": [
    "iris = datasets.load_iris()   #Se carga la base de datos\n",
    "X = iris.data[:,[2,3]]        #La matriz de datos (solo se toman 2 carac. para la visualización)\n",
    "y = iris.target               #las etiquetas\n",
    "print(np.unique(y))"
   ]
  },
  {
   "cell_type": "markdown",
   "metadata": {},
   "source": [
    "# Remocion de la media "
   ]
  },
  {
   "cell_type": "code",
   "execution_count": 38,
   "metadata": {},
   "outputs": [
    {
     "name": "stdout",
     "output_type": "stream",
     "text": [
      "Las muestras bien clasificadas fueron de 27 \n"
     ]
    }
   ],
   "source": [
    "#hacemos la división del conjunto de entrenamiento y el conjunto de validación\n",
    "\n",
    "X_train , X_test , y_train , y_test = train_test_split(X,y,test_size=0.3, random_state = 0)\n",
    "\n",
    "#Remoción para x_train\n",
    "def Remocion(X):\n",
    "    med = X.mean(axis=0)\n",
    "    des = X.std(axis=0)\n",
    "    X = X - med\n",
    "    X = X/des\n",
    "    return X,med, des\n",
    "\n",
    "#Remocion para x_test\n",
    "def Remocion_test(X,med,des):\n",
    "    X = X - med\n",
    "    X = X/des\n",
    "    return X\n",
    "\n",
    "\n",
    "#nomralizacion de x_train\n",
    "x_norm_train,t_train_mean,t_train_desv = Remocion(X_train)\n",
    "#Normalizacion para x_test\n",
    "x_norm_test = Remocion_test(X_test,t_train_mean,t_train_desv)\n",
    "\n",
    "#Entrenamos el clasificador\n",
    "clasificador = LogisticRegression(C=0.1,random_state=0) # C es el parametro\n",
    "clasificador.fit(x_norm_train, y_train) # entrenamiento del clasificador\n",
    "\n",
    "# para validar el clasificador\n",
    "y_pred = clasificador.predict(x_norm_test)\n",
    "#numero de muestras mal clasificadas\n",
    "print('Las muestras bien clasificadas fueron de %d '%(y_test == y_pred).sum())"
   ]
  },
  {
   "cell_type": "markdown",
   "metadata": {},
   "source": [
    "# Binarización"
   ]
  },
  {
   "cell_type": "code",
   "execution_count": 39,
   "metadata": {},
   "outputs": [
    {
     "name": "stdout",
     "output_type": "stream",
     "text": [
      "Las muestras bien clasificadas fueron de 27 \n"
     ]
    }
   ],
   "source": [
    "#hacemos la división del conjunto de entrenamiento y el conjunto de validación\n",
    "X_train , X_test , y_train , y_test = train_test_split(X,y,test_size=0.3, random_state = 0)\n",
    "\n",
    "# Binarización para la X_train\n",
    "def Binarizacion(X,gama):\n",
    "    filas = np.shape(X)[0]\n",
    "    columnas = np.shape(X)[1]\n",
    "    for i in range(filas):\n",
    "        for j in range(columnas):\n",
    "            if (X[i][j] >= gama):\n",
    "                X[i][j] = 1\n",
    "            else:\n",
    "                X[i][j] = 0\n",
    "    return X\n",
    "\n",
    "# Para gama\n",
    "# tomar el maximo y el minimo de x_train \n",
    "min_x_train = X_train.min()\n",
    "max_x_train = X_train.max()\n",
    "\n",
    "Gama = (min_x_train+max_x_train)/2\n",
    "\n",
    "#Binarizacion para X_train\n",
    "x_bin_train = Binarizacion(X_train,Gama)\n",
    "#Binarizacion para x_test\n",
    "x_bin_test = Binarizacion(X_test,Gama)\n",
    "\n",
    "#Entrenamos el clasificador\n",
    "clasificador = LogisticRegression(C=0.1,random_state=0) # C es el parametro\n",
    "clasificador.fit(x_bin_train, y_train) # entrenamiento del clasificador\n",
    "\n",
    "# para validar el clasificador\n",
    "y_pred = clasificador.predict(x_bin_test)\n",
    "#numero de muestras mal clasificadas\n",
    "print('Las muestras bien clasificadas fueron de %d '%(y_test == y_pred).sum())"
   ]
  },
  {
   "cell_type": "markdown",
   "metadata": {},
   "source": [
    "# Escalamiento\n"
   ]
  },
  {
   "cell_type": "code",
   "execution_count": 61,
   "metadata": {},
   "outputs": [
    {
     "name": "stdout",
     "output_type": "stream",
     "text": [
      "Las muestras bien clasificadas fueron de 43 \n"
     ]
    }
   ],
   "source": [
    "#hacemos la división del conjunto de entrenamiento y el conjunto de validación\n",
    "X_train , X_test , y_train , y_test = train_test_split(X,y,test_size=0.3, random_state = 0)\n",
    "\n",
    "# Binarización para la X_train\n",
    "\n",
    "def Escalamiento(X):\n",
    "    X = X - X.min(axis=0)\n",
    "    X = X/(X.max(axis=0) - X.min(axis=0))\n",
    "    return X\n",
    "    \n",
    "\n",
    "#Binarizacion para X_train\n",
    "x_esc_train = Escalamiento(X_train)\n",
    "#Binarizacion para x_test\n",
    "x_esc_test = Escalamiento(X_test)\n",
    "\n",
    "#Entrenamos el clasificador\n",
    "clasificador = LogisticRegression(C=100.0,random_state=0) # C es el parametro\n",
    "clasificador.fit(x_esc_train, y_train) # entrenamiento del clasificador\n",
    "\n",
    "# para validar el clasificador\n",
    "y_pred = clasificador.predict(x_esc_test)\n",
    "#numero de muestras mal clasificadas\n",
    "print('Las muestras bien clasificadas fueron de %d '%(y_test == y_pred).sum())"
   ]
  },
  {
   "cell_type": "markdown",
   "metadata": {},
   "source": [
    "# Normalización L1"
   ]
  },
  {
   "cell_type": "code",
   "execution_count": 55,
   "metadata": {},
   "outputs": [
    {
     "name": "stdout",
     "output_type": "stream",
     "text": [
      "Las muestras bien clasificadas fueron de 29 \n"
     ]
    }
   ],
   "source": [
    "#hacemos la división del conjunto de entrenamiento y el conjunto de validación\n",
    "X_train , X_test , y_train , y_test = train_test_split(X,y,test_size=0.3, random_state = 0)\n",
    "\n",
    " \n",
    "# Normalización L_1 para la X_train\n",
    "\n",
    "def Normal1(X):\n",
    "    Y = np.linalg.norm(X,ord=1,axis=1)  \n",
    "    filas = np.shape(X)[0]\n",
    "    columnas = np.shape(X)[1]\n",
    "    for i in range(filas):\n",
    "        for j in range(columnas):\n",
    "            X[i][j] = X[i][j] / Y[i] \n",
    "    return X\n",
    "\n",
    "    \n",
    "\n",
    "#Normalización L_1 para X_train\n",
    "x_norm1_train = Normal1(X_train)\n",
    "#Normalización L_1 para x_test\n",
    "x_norm1_test = Normal1(X_test)\n",
    "\n",
    "#Entrenamos el clasificador\n",
    "clasificador = LogisticRegression(C=1000.0,random_state=0) # C es el parametro\n",
    "clasificador.fit(x_norm1_train, y_train) # entrenamiento del clasificador\n",
    "\n",
    "# para validar el clasificador\n",
    "y_pred = clasificador.predict(x_norm1_test)\n",
    "#numero de muestras mal clasificadas\n",
    "print('Las muestras bien clasificadas fueron de %d '%(y_test == y_pred).sum())"
   ]
  },
  {
   "cell_type": "markdown",
   "metadata": {},
   "source": [
    "# Normalización L 2"
   ]
  },
  {
   "cell_type": "code",
   "execution_count": 67,
   "metadata": {},
   "outputs": [
    {
     "name": "stdout",
     "output_type": "stream",
     "text": [
      "Las muestras bien clasificadas fueron de 36 \n"
     ]
    }
   ],
   "source": [
    "#hacemos la división del conjunto de entrenamiento y el conjunto de validación\n",
    "X_train , X_test , y_train , y_test = train_test_split(X,y,test_size=0.3, random_state = 0)\n",
    "\n",
    " \n",
    "# Normalización L_2 para la X_train\n",
    "\n",
    "def Normal2(X):\n",
    "    Y = np.linalg.norm(X,ord=2,axis=1)  \n",
    "    filas = np.shape(X)[0]\n",
    "    columnas = np.shape(X)[1]\n",
    "    for i in range(filas):\n",
    "        for j in range(columnas):\n",
    "            X[i][j] = X[i][j] / Y[i] \n",
    "    return X\n",
    "\n",
    "#Normalización L_2 para X_train\n",
    "x_norm2_train = Normal2(X_train)\n",
    "#Normalización L_2 para x_test\n",
    "x_norm2_test = Normal2(X_test)\n",
    "\n",
    "#Entrenamos el clasificador\n",
    "clasificador = LogisticRegression(C=10000000.0,random_state=0) # C es el parametro\n",
    "clasificador.fit(x_norm2_train, y_train) # entrenamiento del clasificador\n",
    "\n",
    "# para validar el clasificador\n",
    "y_pred = clasificador.predict(x_norm2_test)\n",
    "#numero de muestras mal clasificadas\n",
    "print('Las muestras bien clasificadas fueron de %d '%(y_test == y_pred).sum())"
   ]
  },
  {
   "cell_type": "markdown",
   "metadata": {},
   "source": [
    "# Validación del clasificador"
   ]
  },
  {
   "cell_type": "code",
   "execution_count": 58,
   "metadata": {},
   "outputs": [
    {
     "name": "stdout",
     "output_type": "stream",
     "text": [
      "Las muestras mal clasificadas fueron de 44 \n"
     ]
    }
   ],
   "source": [
    "# para validar el clasificador\n",
    "y_pred = clasificador.predict(x_norm_test)\n",
    "#numero de muestras mal clasificadas\n",
    "print('Las muestras mal clasificadas fueron de %d '%(y_test == y_pred).sum())"
   ]
  },
  {
   "cell_type": "markdown",
   "metadata": {},
   "source": [
    "# Visualizar las clasificaciones"
   ]
  },
  {
   "cell_type": "code",
   "execution_count": 68,
   "metadata": {
    "collapsed": true
   },
   "outputs": [],
   "source": [
    "# para graficar las muestras\n",
    "def vizualizar_clasificador(clasificador,X,y):\n",
    "    #definimos valores maximos y minimos de la malla que vamos a graficar\n",
    "    min_x,max_x = X[:,0].min()-1.0, X[:,0].max()+1.0\n",
    "    min_y,max_y = X[:,1].min()-1.0, X[:,1].max()+1.0\n",
    "    \n",
    "    #definir el paso de la malla\n",
    "    paso = 0.01\n",
    "    \n",
    "    #definimos la malla\n",
    "    x_vals,y_vals =np.mgrid[min_x:max_x:paso, min_y:max_y:paso]\n",
    "    \n",
    "    #np.c: para concatenar los valores\n",
    "    #np.ravel: coloca todos los datos de varios arreglos o varias dimensiones en 1 sola\n",
    "    \n",
    "    #corremos el clasificador sobre la malla\n",
    "    resultados = clasificador.predict(np.c_[x_vals.ravel(),y_vals.ravel()])\n",
    "    # reordenamos la salida para que nos quede en forma de malla\n",
    "    resultados = resultados.reshape(x_vals.shape)\n",
    "    \n",
    "    #creamos la figura \n",
    "    plt.figure()\n",
    "    # Elegimos la paleta de colores(colormap)\n",
    "    plt.pcolormesh(x_vals,y_vals, resultados, cmap=plt.cm.Set3)\n",
    "    \n",
    "    #Ubicamos los puntos a clasificar\n",
    "    # X[:,0] es la coordenada en el eje x\n",
    "    # X[:,1] es la coordenada y\n",
    "    # c(color) define el color (c=etiquetas)\n",
    "    # s = es el tamaño de la letra(size)\n",
    "    # edgcolors = define el borde\n",
    "    # linewidth = define el ancho de las lineas\n",
    "    # cmap = define el mapa de color\n",
    "    plt.scatter(X[:,0],X[:,1],c=y,s=75, edgecolors='black',linewidth=1,cmap=plt.cm.rainbow)\n",
    "    \n",
    "    #fijamos los limites para los ejes x e y\n",
    "    plt.xlim(x_vals.min(),x_vals.max())\n",
    "    plt.ylim(y_vals.min(),y_vals.max())\n",
    "    \n",
    "    #Mostramos la grafica\n",
    "    plt.show()\n",
    "    "
   ]
  },
  {
   "cell_type": "code",
   "execution_count": 69,
   "metadata": {},
   "outputs": [
    {
     "data": {
      "image/png": "[encoded data removed]",
      "text/plain": [
       "<matplotlib.figure.Figure at 0xc13c4ab6a0>"
      ]
     },
     "metadata": {},
     "output_type": "display_data"
    }
   ],
   "source": [
    "vizualizar_clasificador(clasificador,x_norm2_test,y_test)"
   ]
  }
 ],
 "metadata": {
  "kernelspec": {
   "display_name": "Python 3",
   "language": "python",
   "name": "python3"
  },
  "language_info": {
   "codemirror_mode": {
    "name": "ipython",
    "version": 3
   },
   "file_extension": ".py",
   "mimetype": "text/x-python",
   "name": "python",
   "nbconvert_exporter": "python",
   "pygments_lexer": "ipython3",
   "version": "3.6.1"
  }
 },
 "nbformat": 4,
 "nbformat_minor": 2
}
