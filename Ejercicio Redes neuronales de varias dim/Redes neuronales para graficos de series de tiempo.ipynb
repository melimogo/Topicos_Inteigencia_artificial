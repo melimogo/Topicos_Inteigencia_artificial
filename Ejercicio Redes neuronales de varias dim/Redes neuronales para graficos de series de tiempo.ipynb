{
 "cells": [
  {
   "cell_type": "code",
   "execution_count": null,
   "metadata": {
    "collapsed": true
   },
   "outputs": [],
   "source": []
  },
  {
   "cell_type": "code",
   "execution_count": 1,
   "metadata": {},
   "outputs": [
    {
     "name": "stderr",
     "output_type": "stream",
     "text": [
      "C:\\ProgramData\\Anaconda3\\lib\\site-packages\\sklearn\\cross_validation.py:44: DeprecationWarning: This module was deprecated in version 0.18 in favor of the model_selection module into which all the refactored classes and functions are moved. Also note that the interface of the new CV iterators are different from that of this module. This module will be removed in 0.20.\n",
      "  \"This module will be removed in 0.20.\", DeprecationWarning)\n"
     ]
    }
   ],
   "source": [
    "import numpy as np\n",
    "from scipy.stats import kurtosis, mode, skew\n",
    "from sklearn import cross_validation\n",
    "from sklearn.feature_selection import SelectKBest, f_regression\n",
    "from sklearn.linear_model import LogisticRegression   \n",
    "import neurolab as nl"
   ]
  },
  {
   "cell_type": "code",
   "execution_count": 92,
   "metadata": {},
   "outputs": [],
   "source": [
    "# Para leer el tipo de archivo .data se utiliza la siguiente función\n",
    "with open('synthetic_control.data') as input_file:\n",
    "    lines = input_file.readlines()\n",
    "    newLines = []\n",
    "    for line in lines:\n",
    "        newLine = line.strip().split()\n",
    "        newLines.append(newLine )\n",
    "dato = newLines\n",
    "# devuelve una lista de tipo string\n",
    "# lo transformamos por numeros\n",
    "datos = np.array(dato).astype(float)"
   ]
  },
  {
   "cell_type": "code",
   "execution_count": 3,
   "metadata": {
    "collapsed": true
   },
   "outputs": [],
   "source": [
    "# Definimos las 7 caracteristicas para los datos\n",
    "def caracteristicas(X):\n",
    "    M = []\n",
    "    for i in range(len(X)):\n",
    "        # Guardamos las 7 caracteristicas para cada observación\n",
    "        M.append([np.mean(X[i,:]),np.median(X[i,:]),kurtosis(X[i,:]),np.std(X[i,:]),np.var(X[i,:]),skew(X[i,:]),mode(X[i,:])[0][0]])\n",
    "    return M"
   ]
  },
  {
   "cell_type": "code",
   "execution_count": 7,
   "metadata": {
    "collapsed": true
   },
   "outputs": [],
   "source": [
    "# Preprocesamos los datos\n",
    "def preprocesamiento(X_train,X_test):\n",
    "    #Remoción para x_train\n",
    "    def Remocion(X_train):\n",
    "        med = X_train.mean(axis=0)\n",
    "        des = X_train.std(axis=0)\n",
    "        X_train = X_train - med\n",
    "        X_train = X_train/des\n",
    "        return X_train,med, des\n",
    "\n",
    "    #Remocion para x_test\n",
    "    def Remocion_test(X_test,med,des):\n",
    "        X_test = X_test - med\n",
    "        X_test = X_test/des\n",
    "        return X_test\n",
    "    #nomralizacion de x_train\n",
    "    x_norm_train,t_train_mean,t_train_desv = Remocion(X_train)\n",
    "    #Normalizacion para x_test\n",
    "    x_norm_test = Remocion_test(X_test,t_train_mean,t_train_desv)\n",
    "    \n",
    "    return x_norm_test,x_norm_train"
   ]
  },
  {
   "cell_type": "code",
   "execution_count": 88,
   "metadata": {
    "collapsed": true
   },
   "outputs": [],
   "source": [
    "def red_neuronal(X,y):\n",
    "    # Definimos los valores minimos y maximos para cada dimension\n",
    "    # Dos neuronas para la entrada y dos para la salida\n",
    "    dim1_min, dim1_max = X[:,0].min(), X[:,0].max() \n",
    "    dim2_min, dim2_max = X[:,1].min(), X[:,1].max() \n",
    "    dim3_min, dim3_max = X[:,2].min(), X[:,2].max() \n",
    "    dim4_min, dim4_max = X[:,3].min(), X[:,3].max() \n",
    "    dim5_min, dim5_max = X[:,4].min(), X[:,4].max() \n",
    "    dim6_min, dim6_max = X[:,5].min(), X[:,5].max() \n",
    "    dim7_min, dim7_max = X[:,6].min(), X[:,6].max() \n",
    "    # definimos las entradas\n",
    "    dim1 = [dim1_min, dim1_max]\n",
    "    dim2 = [dim2_min, dim2_max]\n",
    "    dim3 = [dim3_min, dim3_max]\n",
    "    dim4 = [dim4_min, dim4_max]\n",
    "    dim5 = [dim5_min, dim5_max]\n",
    "    dim6 = [dim6_min, dim6_max]\n",
    "    dim7 = [dim7_min, dim7_max]\n",
    "    \n",
    "    ANN = nl.net.newff([dim1,dim2,dim3,dim4,dim5,dim6,dim7],[2,1,3])\n",
    "    ANN.trainf = nl.train.train_gd \n",
    "    progreso_erro = ANN.train(X_train, y_train, epochs = 1000, show = 200, goal = 0.01)\n",
    "    "
   ]
  },
  {
   "cell_type": "code",
   "execution_count": 95,
   "metadata": {
    "collapsed": true
   },
   "outputs": [],
   "source": [
    "def red_neuronal_3(X,y):\n",
    "    # Definimos los valores minimos y maximos para cada dimension\n",
    "    # Dos neuronas para la entrada y dos para la salida\n",
    "    dim1_min, dim1_max = X[:,0].min(), X[:,0].max() \n",
    "    dim2_min, dim2_max = X[:,1].min(), X[:,1].max() \n",
    "    dim3_min, dim3_max = X[:,2].min(), X[:,2].max() \n",
    "    \n",
    "    # definimos las entradas\n",
    "    dim1 = [dim1_min, dim1_max]\n",
    "    dim2 = [dim2_min, dim2_max]\n",
    "    dim3 = [dim3_min, dim3_max]\n",
    "        \n",
    "    ANN = nl.net.newff([dim1,dim2,dim3],[2,1,3])\n",
    "    ANN.trainf = nl.train.train_gd \n",
    "    progreso_erro = ANN.train(X_train, y_train, epochs = 1000, show = 200, goal = 0.01)\n",
    "    "
   ]
  },
  {
   "cell_type": "code",
   "execution_count": 106,
   "metadata": {
    "collapsed": true
   },
   "outputs": [],
   "source": [
    "# Selector de caracteristicas solo 4\n",
    "def selectores(X_test,X_train,y_train):\n",
    "    selector = SelectKBest(f_regression, k=4)\n",
    "    print(np.shape(X_train),np.shape(y_train))\n",
    "    selector.fit(X_train,y_train)\n",
    "    X_test = selector.transform(X_test)\n",
    "    X_train = selector.transform(X_train)\n",
    "    return(X_test,X_train)"
   ]
  },
  {
   "cell_type": "code",
   "execution_count": 90,
   "metadata": {},
   "outputs": [],
   "source": [
    "# Definimos Y\n",
    "y = []\n",
    "y = [[0,0,0]]*100 + [[0,0,1]]*100 + [[0,1,0]]*100 + [[0,1,1]]*100 + [[1,0,0]]*100 + [[1,0,1]]*100 \n",
    "y = np.vstack(y)"
   ]
  },
  {
   "cell_type": "code",
   "execution_count": 93,
   "metadata": {},
   "outputs": [],
   "source": [
    "# Transformamos las caracteristicas en \n",
    "X = np.array(caracteristicas(datos))"
   ]
  },
  {
   "cell_type": "code",
   "execution_count": 108,
   "metadata": {},
   "outputs": [
    {
     "name": "stdout",
     "output_type": "stream",
     "text": [
      "(420, 7) (420,)\n"
     ]
    },
    {
     "ename": "AssertionError",
     "evalue": "",
     "output_type": "error",
     "traceback": [
      "\u001b[1;31m---------------------------------------------------------------------------\u001b[0m",
      "\u001b[1;31mAssertionError\u001b[0m                            Traceback (most recent call last)",
      "\u001b[1;32m<ipython-input-108-e231ed868b70>\u001b[0m in \u001b[0;36m<module>\u001b[1;34m()\u001b[0m\n\u001b[0;32m      7\u001b[0m \u001b[0mX_test\u001b[0m\u001b[1;33m,\u001b[0m\u001b[0mX_train\u001b[0m \u001b[1;33m=\u001b[0m \u001b[0mselectores\u001b[0m\u001b[1;33m(\u001b[0m\u001b[0mX_test\u001b[0m\u001b[1;33m,\u001b[0m\u001b[0mX_train\u001b[0m\u001b[1;33m,\u001b[0m\u001b[0my_train_p\u001b[0m\u001b[1;33m)\u001b[0m\u001b[1;33m\u001b[0m\u001b[0m\n\u001b[0;32m      8\u001b[0m \u001b[1;31m# Aplicamos la red neuronal con capas cultas.\u001b[0m\u001b[1;33m\u001b[0m\u001b[1;33m\u001b[0m\u001b[0m\n\u001b[1;32m----> 9\u001b[1;33m \u001b[0mred_neuronal_3\u001b[0m\u001b[1;33m(\u001b[0m\u001b[0mX_train\u001b[0m\u001b[1;33m,\u001b[0m\u001b[0my_train\u001b[0m\u001b[1;33m)\u001b[0m\u001b[1;33m\u001b[0m\u001b[0m\n\u001b[0m",
      "\u001b[1;32m<ipython-input-95-ce2293462e26>\u001b[0m in \u001b[0;36mred_neuronal_3\u001b[1;34m(X, y)\u001b[0m\n\u001b[0;32m     13\u001b[0m     \u001b[0mANN\u001b[0m \u001b[1;33m=\u001b[0m \u001b[0mnl\u001b[0m\u001b[1;33m.\u001b[0m\u001b[0mnet\u001b[0m\u001b[1;33m.\u001b[0m\u001b[0mnewff\u001b[0m\u001b[1;33m(\u001b[0m\u001b[1;33m[\u001b[0m\u001b[0mdim1\u001b[0m\u001b[1;33m,\u001b[0m\u001b[0mdim2\u001b[0m\u001b[1;33m,\u001b[0m\u001b[0mdim3\u001b[0m\u001b[1;33m]\u001b[0m\u001b[1;33m,\u001b[0m\u001b[1;33m[\u001b[0m\u001b[1;36m2\u001b[0m\u001b[1;33m,\u001b[0m\u001b[1;36m1\u001b[0m\u001b[1;33m,\u001b[0m\u001b[1;36m3\u001b[0m\u001b[1;33m]\u001b[0m\u001b[1;33m)\u001b[0m\u001b[1;33m\u001b[0m\u001b[0m\n\u001b[0;32m     14\u001b[0m     \u001b[0mANN\u001b[0m\u001b[1;33m.\u001b[0m\u001b[0mtrainf\u001b[0m \u001b[1;33m=\u001b[0m \u001b[0mnl\u001b[0m\u001b[1;33m.\u001b[0m\u001b[0mtrain\u001b[0m\u001b[1;33m.\u001b[0m\u001b[0mtrain_gd\u001b[0m\u001b[1;33m\u001b[0m\u001b[0m\n\u001b[1;32m---> 15\u001b[1;33m     \u001b[0mprogreso_erro\u001b[0m \u001b[1;33m=\u001b[0m \u001b[0mANN\u001b[0m\u001b[1;33m.\u001b[0m\u001b[0mtrain\u001b[0m\u001b[1;33m(\u001b[0m\u001b[0mX_train\u001b[0m\u001b[1;33m,\u001b[0m \u001b[0my_train\u001b[0m\u001b[1;33m,\u001b[0m \u001b[0mepochs\u001b[0m \u001b[1;33m=\u001b[0m \u001b[1;36m1000\u001b[0m\u001b[1;33m,\u001b[0m \u001b[0mshow\u001b[0m \u001b[1;33m=\u001b[0m \u001b[1;36m200\u001b[0m\u001b[1;33m,\u001b[0m \u001b[0mgoal\u001b[0m \u001b[1;33m=\u001b[0m \u001b[1;36m0.01\u001b[0m\u001b[1;33m)\u001b[0m\u001b[1;33m\u001b[0m\u001b[0m\n\u001b[0m\u001b[0;32m     16\u001b[0m \u001b[1;33m\u001b[0m\u001b[0m\n",
      "\u001b[1;32mC:\\ProgramData\\Anaconda3\\lib\\site-packages\\neurolab\\core.py\u001b[0m in \u001b[0;36mtrain\u001b[1;34m(self, *args, **kwargs)\u001b[0m\n\u001b[0;32m    163\u001b[0m \u001b[1;33m\u001b[0m\u001b[0m\n\u001b[0;32m    164\u001b[0m         \"\"\"\n\u001b[1;32m--> 165\u001b[1;33m         \u001b[1;32mreturn\u001b[0m \u001b[0mself\u001b[0m\u001b[1;33m.\u001b[0m\u001b[0mtrainf\u001b[0m\u001b[1;33m(\u001b[0m\u001b[0mself\u001b[0m\u001b[1;33m,\u001b[0m \u001b[1;33m*\u001b[0m\u001b[0margs\u001b[0m\u001b[1;33m,\u001b[0m \u001b[1;33m**\u001b[0m\u001b[0mkwargs\u001b[0m\u001b[1;33m)\u001b[0m\u001b[1;33m\u001b[0m\u001b[0m\n\u001b[0m\u001b[0;32m    166\u001b[0m \u001b[1;33m\u001b[0m\u001b[0m\n\u001b[0;32m    167\u001b[0m     \u001b[1;32mdef\u001b[0m \u001b[0mreset\u001b[0m\u001b[1;33m(\u001b[0m\u001b[0mself\u001b[0m\u001b[1;33m)\u001b[0m\u001b[1;33m:\u001b[0m\u001b[1;33m\u001b[0m\u001b[0m\n",
      "\u001b[1;32mC:\\ProgramData\\Anaconda3\\lib\\site-packages\\neurolab\\core.py\u001b[0m in \u001b[0;36m__call__\u001b[1;34m(self, net, input, target, **kwargs)\u001b[0m\n\u001b[0;32m    320\u001b[0m         \u001b[0minput\u001b[0m \u001b[1;33m=\u001b[0m \u001b[0mnp\u001b[0m\u001b[1;33m.\u001b[0m\u001b[0masfarray\u001b[0m\u001b[1;33m(\u001b[0m\u001b[0minput\u001b[0m\u001b[1;33m)\u001b[0m\u001b[1;33m\u001b[0m\u001b[0m\n\u001b[0;32m    321\u001b[0m         \u001b[1;32massert\u001b[0m \u001b[0minput\u001b[0m\u001b[1;33m.\u001b[0m\u001b[0mndim\u001b[0m \u001b[1;33m==\u001b[0m \u001b[1;36m2\u001b[0m\u001b[1;33m\u001b[0m\u001b[0m\n\u001b[1;32m--> 322\u001b[1;33m         \u001b[1;32massert\u001b[0m \u001b[0minput\u001b[0m\u001b[1;33m.\u001b[0m\u001b[0mshape\u001b[0m\u001b[1;33m[\u001b[0m\u001b[1;36m1\u001b[0m\u001b[1;33m]\u001b[0m \u001b[1;33m==\u001b[0m \u001b[0mnet\u001b[0m\u001b[1;33m.\u001b[0m\u001b[0mci\u001b[0m\u001b[1;33m\u001b[0m\u001b[0m\n\u001b[0m\u001b[0;32m    323\u001b[0m         \u001b[0margs\u001b[0m\u001b[1;33m.\u001b[0m\u001b[0mappend\u001b[0m\u001b[1;33m(\u001b[0m\u001b[0minput\u001b[0m\u001b[1;33m)\u001b[0m\u001b[1;33m\u001b[0m\u001b[0m\n\u001b[0;32m    324\u001b[0m         \u001b[1;32mif\u001b[0m \u001b[0mtarget\u001b[0m \u001b[1;32mis\u001b[0m \u001b[1;32mnot\u001b[0m \u001b[1;32mNone\u001b[0m\u001b[1;33m:\u001b[0m\u001b[1;33m\u001b[0m\u001b[0m\n",
      "\u001b[1;31mAssertionError\u001b[0m: "
     ]
    }
   ],
   "source": [
    "# Dividimos los datos\n",
    "X_train,X_test,y_train,y_test = cross_validation.train_test_split(X,y,test_size=0.3)\n",
    "# Preprocesamos\n",
    "X_test,X_train = preprocesamiento(X_train,X_test)\n",
    "# Selector Caracteristicas 3\n",
    "y_train_p = y_train[:,0]\n",
    "X_test,X_train = selectores(X_test,X_train,y_train_p)\n",
    "# Aplicamos la red neuronal con capas cultas.\n",
    "\n",
    "red_neuronal_3(X_train,y_train)"
   ]
  }
 ],
 "metadata": {
  "kernelspec": {
   "display_name": "Python 3",
   "language": "python",
   "name": "python3"
  },
  "language_info": {
   "codemirror_mode": {
    "name": "ipython",
    "version": 3
   },
   "file_extension": ".py",
   "mimetype": "text/x-python",
   "name": "python",
   "nbconvert_exporter": "python",
   "pygments_lexer": "ipython3",
   "version": "3.6.1"
  }
 },
 "nbformat": 4,
 "nbformat_minor": 2
}
