{
 "cells": [
  {
   "cell_type": "markdown",
   "metadata": {},
   "source": [
    "    "
   ]
  },
  {
   "cell_type": "code",
   "execution_count": 73,
   "metadata": {},
   "outputs": [],
   "source": [
    "import numpy as np\n",
    "from scipy.stats import kurtosis, mode, skew\n",
    "from sklearn import cross_validation\n",
    "from sklearn.feature_selection import SelectKBest, f_regression\n",
    "from sklearn.linear_model import LogisticRegression   "
   ]
  },
  {
   "cell_type": "code",
   "execution_count": 23,
   "metadata": {},
   "outputs": [],
   "source": [
    "# Para leer el tipo de archivo .data se utiliza la siguiente función\n",
    "with open('synthetic_control.data') as input_file:\n",
    "    lines = input_file.readlines()\n",
    "    newLines = []\n",
    "    for line in lines:\n",
    "        newLine = line.strip().split()\n",
    "        newLines.append(newLine )\n",
    "dato = newLines\n",
    "# devuelve una lista de tipo string\n",
    "# lo transformamos por numeros\n",
    "datos = np.array(dato).astype(float)"
   ]
  },
  {
   "cell_type": "code",
   "execution_count": 12,
   "metadata": {
    "collapsed": true
   },
   "outputs": [],
   "source": [
    "# Definimos las 7 caracteristicas para los datos\n",
    "def caracteristicas(X):\n",
    "    M = []\n",
    "    for i in range(len(X)):\n",
    "        # Guardamos las 7 caracteristicas para cada observación\n",
    "        M.append([np.mean(X[i,:]),np.median(X[i,:]),kurtosis(X[i,:]),np.std(X[i,:]),np.var(X[i,:]),skew(X[i,:]),mode(X[i,:])[0][0]])\n",
    "    return M"
   ]
  },
  {
   "cell_type": "code",
   "execution_count": 41,
   "metadata": {},
   "outputs": [],
   "source": [
    "# Transformamos las caracteristicas en \n",
    "X = np.array(caracteristicas(datos))"
   ]
  },
  {
   "cell_type": "code",
   "execution_count": 59,
   "metadata": {
    "collapsed": true
   },
   "outputs": [],
   "source": [
    "# Preprocesamos los datos\n",
    "def preprocesamiento(X_train,X_test):\n",
    "    #Remoción para x_train\n",
    "    def Remocion(X_train):\n",
    "        med = X_train.mean(axis=0)\n",
    "        des = X_train.std(axis=0)\n",
    "        X_train = X_train - med\n",
    "        X_train = X_train/des\n",
    "        return X_train,med, des\n",
    "\n",
    "    #Remocion para x_test\n",
    "    def Remocion_test(X_test,med,des):\n",
    "        X_test = X_test - med\n",
    "        X_test = X_test/des\n",
    "        return X_test\n",
    "    #nomralizacion de x_train\n",
    "    x_norm_train,t_train_mean,t_train_desv = Remocion(X_train)\n",
    "    #Normalizacion para x_test\n",
    "    x_norm_test = Remocion_test(X_test,t_train_mean,t_train_desv)\n",
    "    \n",
    "    return x_norm_test,x_norm_train\n"
   ]
  },
  {
   "cell_type": "code",
   "execution_count": 405,
   "metadata": {},
   "outputs": [],
   "source": [
    "# Definimos Y\n",
    "y = []\n",
    "y = [1]*100 + [2]*100 + [3]*100 + [4]*100 + [5]*100 + [6]*100 "
   ]
  },
  {
   "cell_type": "code",
   "execution_count": 406,
   "metadata": {
    "collapsed": true
   },
   "outputs": [],
   "source": [
    "# Selector de caracteristicas solo 4\n",
    "def selectores(X_test,X_train,y_train):\n",
    "    selector = SelectKBest(f_regression, k=4)\n",
    "    selector.fit(X_train,y_train)\n",
    "    X_test = selector.transform(X_test)\n",
    "    X_train = selector.transform(X_train)\n",
    "    return(X_test,X_train)"
   ]
  },
  {
   "cell_type": "code",
   "execution_count": 407,
   "metadata": {
    "collapsed": true
   },
   "outputs": [],
   "source": [
    "# Clasificador de caracteristicas\n",
    "def clasificadores(X_train, y_train, X_test):\n",
    "    # Entrenamos el clasificador\n",
    "    clasificador = LogisticRegression(C=100.0) # C es el parametro\n",
    "    clasificador.fit(X_train, y_train) # entrenamiento del clasificador\n",
    "    # Para validar el clasificador\n",
    "    y_pred = clasificador.predict(X_test)\n",
    "    acc = 100.0*(y_pred == y_test).sum()/X_test.shape[0]\n",
    "    return acc"
   ]
  },
  {
   "cell_type": "code",
   "execution_count": 429,
   "metadata": {},
   "outputs": [
    {
     "name": "stdout",
     "output_type": "stream",
     "text": [
      "El resultado de acciertos es de : 89.888889, Con un error de +/- 4.673276\n"
     ]
    }
   ],
   "source": [
    "sum_data_acc = []\n",
    "for i in range(10):\n",
    "    # Dividimos los datos\n",
    "    X_train,X_test,y_train,y_test = cross_validation.train_test_split(X,y,test_size=0.3)\n",
    "    # Preprocesamos\n",
    "    X_test,X_train = preprocesamiento(X_train,X_test)\n",
    "    # Seleccionamos algunas caracteristicas( En nuestro caso 4)\n",
    "    X_test,X_train = selectores(X_test,X_train,y_train)\n",
    "    # Guardamos los resultados de los aciertos\n",
    "    sum_data_acc.append(clasificadores(X_train, y_train, X_test))\n",
    "# Mostramos el resultado\n",
    "print('El resultado de acciertos es de : %f, Con un error de +/- %f'%(np.mean(sum_data_acc),np.std(sum_data_acc)))\n"
   ]
  }
 ],
 "metadata": {
  "kernelspec": {
   "display_name": "Python 3",
   "language": "python",
   "name": "python3"
  }
 },
 "nbformat": 4,
 "nbformat_minor": 2
}
