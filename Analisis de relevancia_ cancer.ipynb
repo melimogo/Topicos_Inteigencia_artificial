{
 "cells": [
  {
   "cell_type": "markdown",
   "metadata": {},
   "source": [
    "# Librerias"
   ]
  },
  {
   "cell_type": "code",
   "execution_count": 1,
   "metadata": {},
   "outputs": [
    {
     "name": "stderr",
     "output_type": "stream",
     "text": [
      "C:\\Users\\USUARIO\\Anaconda3\\lib\\site-packages\\sklearn\\cross_validation.py:44: DeprecationWarning: This module was deprecated in version 0.18 in favor of the model_selection module into which all the refactored classes and functions are moved. Also note that the interface of the new CV iterators are different from that of this module. This module will be removed in 0.20.\n",
      "  \"This module will be removed in 0.20.\", DeprecationWarning)\n"
     ]
    }
   ],
   "source": [
    "# importamos librerias\n",
    "import numpy as np\n",
    "import matplotlib.pyplot as plt\n",
    "from sklearn.cluster import KMeans\n",
    "from sklearn import cluster\n",
    "from sklearn.linear_model import LogisticRegression   #Importa las fxn de validacion cruzadas\n",
    "from sklearn.cross_validation import train_test_split #Importa las funciones de validación cruzada\n",
    "from sklearn.preprocessing import StandardScaler      #Importar las funciones de preparacion "
   ]
  },
  {
   "cell_type": "markdown",
   "metadata": {},
   "source": [
    "# Funcion principal "
   ]
  },
  {
   "cell_type": "code",
   "execution_count": 24,
   "metadata": {},
   "outputs": [
    {
     "ename": "SyntaxError",
     "evalue": "invalid syntax (<ipython-input-24-9e17e667a6d9>, line 24)",
     "output_type": "error",
     "traceback": [
      "\u001b[1;36m  File \u001b[1;32m\"<ipython-input-24-9e17e667a6d9>\"\u001b[1;36m, line \u001b[1;32m24\u001b[0m\n\u001b[1;33m    X = cancer.data[:][[1],[25:27]]\u001b[0m\n\u001b[1;37m                              ^\u001b[0m\n\u001b[1;31mSyntaxError\u001b[0m\u001b[1;31m:\u001b[0m invalid syntax\n"
     ]
    }
   ],
   "source": [
    "# cargamos las librerias y la base de datos\n",
    "from sklearn import datasets\n",
    "cancer = datasets.load_breast_cancer()\n",
    "#cargamos las caracteristicas\n",
    "X = cancer.data\n",
    "y = cancer.target\n",
    "\n",
    "visualizar(X)\n",
    "#print('Esta es la descripció de la base de datos: \\n',cancer.DESCR)\n",
    "#print('Estos son los nombres de las clases: \\n', list(cancer.target_names))\n",
    "#print('Estos son los nombres de las características: \\n',list(cancer.feature_names))\n",
    "\n",
    "#lista para guardar los valores de las muestras mal clasificadas\n",
    "lista_Num_muestras = dict()\n",
    "\n",
    "#Entrenamos para saber cuales son las caracteristicas con mas datos mal clasificados\n",
    "lista_Num_muestras = entrenamiento(X)\n",
    "\n",
    "#Identificamos las caracteristicas que tiene una clasificacion alta\n",
    "muestras = eliminar_Muestras(lista_Num_muestras)\n",
    "\n",
    "print(muestras)\n",
    "#[16:23][25:27]\n",
    "X = cancer.data[:][[1],[25:27]]\n",
    "print(X)\n",
    "\n",
    "    "
   ]
  },
  {
   "cell_type": "markdown",
   "metadata": {},
   "source": [
    "# Funcion para visualizar los datos"
   ]
  },
  {
   "cell_type": "code",
   "execution_count": 6,
   "metadata": {},
   "outputs": [],
   "source": [
    "#visualizamos los datos para observar la dispersión \n",
    "def visualizar(X):\n",
    "\n",
    "    plt.figure()\n",
    "    plt.scatter(X[:,0],X[:,1],marker='o',facecolors = 'none',edgecolors = 'black',s = 80,c=y)\n",
    "\n",
    "    #En el eje X la caracteristica 0\n",
    "    x_min,x_max = X[:,0].min()-1,X[:,0].max()+1\n",
    "\n",
    "    #En el eje Y la caracteristica 1\n",
    "    y_min,y_max = X[:,1].min()-1,X[:,1].max()+1\n",
    "\n",
    "    plt.title('Datos de entrada')\n",
    "    plt.xlim(x_min,x_max)\n",
    "    plt.ylim(y_min,y_max)\n",
    "\n",
    "    plt.xticks(())\n",
    "    plt.yticks(())\n",
    "\n",
    "\n",
    "\n",
    "    #print('Esta es la descripció de la base de datos: \\n',cancer.DESCR)\n",
    "    #print('Estos son los nombres de las clases: \\n', list(cancer.target_names))\n",
    "    #print('Estos son los nombres de las características: \\n',list(cancer.feature_names))\n",
    "    plt.show()"
   ]
  },
  {
   "cell_type": "markdown",
   "metadata": {},
   "source": [
    "## Funciones utilizadas para entrenar y probar los datos"
   ]
  },
  {
   "cell_type": "code",
   "execution_count": 9,
   "metadata": {
    "collapsed": true
   },
   "outputs": [],
   "source": [
    "#Remoción para x_train\n",
    "def Remocion(X):\n",
    "    med = X.mean(axis=0)\n",
    "    des = X.std(axis=0)\n",
    "    X = X - med\n",
    "    X = X/des\n",
    "    return X,med, des\n",
    "\n",
    "#Remocion para x_test\n",
    "def Remocion_test(X,med,des):\n",
    "    X = X - med\n",
    "    X = X/des\n",
    "    return X"
   ]
  },
  {
   "cell_type": "markdown",
   "metadata": {},
   "source": [
    "## Funcion para aplicar el clasificador, la normalización de los datos y obtener los mal clasificados"
   ]
  },
  {
   "cell_type": "code",
   "execution_count": 10,
   "metadata": {
    "collapsed": true
   },
   "outputs": [],
   "source": [
    "def entrenamiento(cancer):\n",
    "    #Ciclo para conocer las muestras clasificadas de mala forma, segun las caracteristicas\n",
    "    for i in range(0,30):\n",
    "        X_total = cancer\n",
    "        #Eliminamos la caracteristica de las observaciones\n",
    "        X = np.delete(X_total,i,1)\n",
    "\n",
    "        #___________________________________________________________________________________________________________\n",
    "        #ENTRENAMOS:\n",
    "        X_train , X_test , y_train , y_test = train_test_split(X,y,test_size=0.3, random_state = 0)\n",
    "\n",
    "        #nomralizacion de x_train\n",
    "        x_norm_train,t_train_mean,t_train_desv = Remocion(X_train)\n",
    "        #Normalizacion para x_test\n",
    "        x_norm_test = Remocion_test(X_test,t_train_mean,t_train_desv)\n",
    "\n",
    "        #Entrenamos el clasificador\n",
    "        clasificador = LogisticRegression(C=1.0,random_state=0) # C es el parametro\n",
    "        clasificador.fit(x_norm_train, y_train) # entrenamiento del clasificador\n",
    "\n",
    "        # para validar el clasificador\n",
    "        y_pred = clasificador.predict(x_norm_test)\n",
    "        #numero de muestras mal clasificadas\n",
    "        diferentes = (y_test != y_pred).sum();\n",
    "        #print('Las muestras mal clasificadas fueron de %d '%diferentes)\n",
    "        lista_Num_muestras[i] = diferentes\n",
    "        #____________________________________________________________________________________________________________\n",
    "\n",
    "    return lista_Num_muestras"
   ]
  },
  {
   "cell_type": "markdown",
   "metadata": {},
   "source": [
    "## Función para eliminar las caracteristicas con el numero de muestas mal clasificadas mas alto"
   ]
  },
  {
   "cell_type": "code",
   "execution_count": 11,
   "metadata": {
    "collapsed": true
   },
   "outputs": [],
   "source": [
    "def eliminar_Muestras(lista_Num_muestras):\n",
    "    #lista para guardar las caracteeristicas con los indices\n",
    "    lista_Caractisticas = dict()\n",
    "    #Llenamos un nuevo diccionario en el que asociamos los valores de los indices con el nombre de las caracteristicas\n",
    "    for i in range(0,30):\n",
    "        lista_Caractisticas[i] = cancer.feature_names[i]\n",
    "    #print(lista_Caractisticas)\n",
    "\n",
    "    #Creamos un diccionario temporal con el cual haremos las diferentes clasificaciones y eliminacion de las caracteristicas\n",
    "    temp_lista_Num_muestras = lista_Num_muestras\n",
    "\n",
    "    #Creamos una lista de para guardar el indice de las caracteristicas\n",
    "    muestras = list()\n",
    "    nom_muestras = list()\n",
    "    #Recorremos los diccionarios y donde sera == a la caracteristica con el número mayor, la eliminamos del diccionario.\n",
    "    #Adicional a esto en la lista de muestras, guardamos el valor de los indices que fueron borrados para luego saber \n",
    "    #cual es la caracteristica que hemos borrado\n",
    "    mayor = max(lista_Num_muestras.values())\n",
    "    \n",
    "    for i in range(0,30):\n",
    "        if temp_lista_Num_muestras[i] == mayor:\n",
    "            muestras.append(i)\n",
    "            del(temp_lista_Num_muestras[i])\n",
    "            \n",
    "    return muestras\n",
    "\n",
    "    "
   ]
  }
 ],
 "metadata": {
  "kernelspec": {
   "display_name": "Python 3",
   "language": "python",
   "name": "python3"
  },
  "language_info": {
   "codemirror_mode": {
    "name": "ipython",
    "version": 3
   },
   "file_extension": ".py",
   "mimetype": "text/x-python",
   "name": "python",
   "nbconvert_exporter": "python",
   "pygments_lexer": "ipython3",
   "version": "3.6.1"
  }
 },
 "nbformat": 4,
 "nbformat_minor": 2
}
