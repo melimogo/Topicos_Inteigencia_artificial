{
 "cells": [
  {
   "cell_type": "code",
   "execution_count": 126,
   "metadata": {},
   "outputs": [],
   "source": [
    "from sklearn import datasets\n",
    "import numpy as np\n",
    "from sklearn.cluster import KMeans\n",
    "from sklearn import cluster\n",
    "import matplotlib.pyplot as plt\n",
    "from matplotlib import patches # es para hacer elipses\n",
    "from sklearn.linear_model import LogisticRegression   #Importa las fxn de validacion cruzadas\n",
    "from sklearn.cross_validation import train_test_split #Importa las funciones de validación cruzada\n",
    "from sklearn.preprocessing import StandardScaler      #Importar las funciones\n",
    "\n"
   ]
  },
  {
   "cell_type": "code",
   "execution_count": 127,
   "metadata": {},
   "outputs": [
    {
     "name": "stdout",
     "output_type": "stream",
     "text": [
      "[array([ 1.,  4.,  9.,  1.,  7.,  6.,  1.,  4.,  9.,  7.]), array([  1.,   8.,  10.,   4.,   6.,   9.,   2.,   7.,   1.,   2.]), array([ 10.,   0.,  11.,   5.,  10.,   5.,   1.,   0.,   9.,   3.]), array([  7.,   3.,  11.,   9.,   3.,   7.,   2.,   4.,   4.,   6.]), array([  5.,  12.,   2.,   0.,   3.,   5.,   7.,   5.,  10.,   2.]), array([ 8.,  0.,  7.,  6.,  5.,  6.,  0.,  3.,  9.,  7.]), array([ 9.,  5.,  7.,  8.,  5.,  6.,  2.,  6.,  8.,  4.]), array([  4.,   2.,  13.,   6.,   9.,   9.,   2.,   8.,   6.,  10.])]\n"
     ]
    }
   ],
   "source": [
    "# Esta funcion se utiliza para dividir los elementos por clases. No es la sulocion mas rapida, ya que en cada iteraccion del ciclo,\n",
    "# se pueden combinar varias caracteristicas, y no hay etiqueta que pertenezca exactamente a una clase.  \n",
    "# lo separa en 3 tipos de clases y donde todas las etiquetas son 1 o 0 las dejo en la misma clase. \n",
    "X,Y = datasets.make_multilabel_classification(n_samples=100, n_features=10, n_classes=3, n_labels=1, length=50, allow_unlabeled=False, sparse=False, return_indicator='dense',return_distributions=False, random_state=None)\n",
    "#print(Y)\n",
    "\n",
    "Clase_1 = []\n",
    "Clase_2 = []\n",
    "Clase_3 = []\n",
    "Sin_Clase = []\n",
    "X_total = X\n",
    "\n",
    "for i in range(shap):\n",
    "    dato_i = Y[i]\n",
    "    # comparo si pertenece la caracteristica a la clase, si es el caso, las caracteristicas las paso a una nueva lista con las \n",
    "    # etiquetas de cada clase.\n",
    "    if (dato_i[0] == 0 and dato_i[1] == 0 and dato_i[2] == 1) or (dato_i[0] == 0 and dato_i[1] == 1 and dato_i[2] == 1) or (dato_i[0] == 1 and dato_i[1] == 1 and dato_i[2] == 0):\n",
    "        Clase_3.append(X[i])\n",
    "    \n",
    "    if (dato_i[0] == 0 and dato_i[1] == 1 and dato_i[2] == 0) or (dato_i[0] == 0 and dato_i[1] == 1 and dato_i[2] == 1) or (dato_i[0] == 1 and dato_i[1] == 1 and dato_i[2] == 0):\n",
    "        Clase_2.append(X[i])\n",
    "        \n",
    "    if (dato_i[0] == 1 and dato_i[1] ==0  and dato_i[2] == 0) or (dato_i[0] ==1 and dato_i[1] == 1 and dato_i[2] == 0) or (dato_i[0] == 1 and dato_i[1] == 0 and dato_i[2] == 1):\n",
    "        Clase_1.append(X[i])\n",
    "        \n",
    "    # si las caracteristicas no pertenecen a ninguna clase, es decir o que partenecen a todas o a ninguna, entonces las dejamos \n",
    "    # aparte para volverlas a clasificar.\n",
    "    if (dato_i[0] == 0 and dato_i[1] == 0 and dato_i[2] == 0) or (dato_i[0] == 1 and dato_i[1] == 1 and dato_i[2] == 1):\n",
    "        Sin_Clase.append(X[i])\n",
    "        X = np.delete(X,i,0)\n",
    "        shap = X.shape[0]\n",
    "        \n",
    "print(Sin_Clase)"
   ]
  },
  {
   "cell_type": "code",
   "execution_count": null,
   "metadata": {
    "collapsed": true
   },
   "outputs": [],
   "source": [
    "## Hasta el momento tenermos guardado en X las caracteristicas que \n",
    "## Segun el la clasificación que aplique pertenecen a alguna clase.\n",
    "## El paso siguiente es clasificar las que aun no tiene una clase \n",
    "## definida.\n"
   ]
  },
  {
   "cell_type": "code",
   "execution_count": 128,
   "metadata": {},
   "outputs": [
    {
     "data": {
      "image/png": "[encoded data removed]",
      "text/plain": [
       "<matplotlib.figure.Figure at 0x64c8845b70>"
      ]
     },
     "metadata": {},
     "output_type": "display_data"
    }
   ],
   "source": [
    "#visualizamos los datos para observar la dispersión \n",
    "plt.figure()\n",
    "plt.scatter(X[:,0],X[:,1],marker='o',facecolors = 'none',edgecolors = 'black',s = 80)\n",
    "\n",
    "#En el eje X la caracteristica 0\n",
    "x_min,x_max = X[:,0].min()-1,X[:,0].max()+1\n",
    "\n",
    "#En el eje Y la caracteristica 1\n",
    "y_min,y_max = X[:,1].min()-1,X[:,1].max()+1\n",
    "\n",
    "plt.title('Datos de entrada')\n",
    "plt.xlim(x_min,x_max)\n",
    "plt.ylim(y_min,y_max)\n",
    "\n",
    "plt.xticks(())\n",
    "plt.yticks(())\n",
    "plt.show()"
   ]
  },
  {
   "cell_type": "code",
   "execution_count": 129,
   "metadata": {},
   "outputs": [
    {
     "name": "stdout",
     "output_type": "stream",
     "text": [
      "Observacion:  0 Clase:  0\n",
      "Observacion:  1 Clase:  2\n",
      "Observacion:  2 Clase:  1\n",
      "Observacion:  3 Clase:  0\n",
      "Observacion:  4 Clase:  1\n",
      "Observacion:  5 Clase:  1\n",
      "Observacion:  6 Clase:  2\n",
      "Observacion:  7 Clase:  0\n",
      "Observacion:  8 Clase:  1\n",
      "Observacion:  9 Clase:  1\n",
      "Observacion:  10 Clase:  0\n",
      "Observacion:  11 Clase:  0\n",
      "Observacion:  12 Clase:  1\n",
      "Observacion:  13 Clase:  2\n",
      "Observacion:  14 Clase:  1\n",
      "Observacion:  15 Clase:  0\n",
      "Observacion:  16 Clase:  0\n",
      "Observacion:  17 Clase:  1\n",
      "Observacion:  18 Clase:  2\n",
      "Observacion:  19 Clase:  0\n",
      "Observacion:  20 Clase:  2\n",
      "Observacion:  21 Clase:  0\n",
      "Observacion:  22 Clase:  2\n",
      "Observacion:  23 Clase:  0\n",
      "Observacion:  24 Clase:  1\n",
      "Observacion:  25 Clase:  1\n",
      "Observacion:  26 Clase:  0\n",
      "Observacion:  27 Clase:  0\n",
      "Observacion:  28 Clase:  0\n",
      "Observacion:  29 Clase:  0\n",
      "Observacion:  30 Clase:  0\n",
      "Observacion:  31 Clase:  1\n",
      "Observacion:  32 Clase:  1\n",
      "Observacion:  33 Clase:  1\n",
      "Observacion:  34 Clase:  0\n",
      "Observacion:  35 Clase:  1\n",
      "Observacion:  36 Clase:  2\n",
      "Observacion:  37 Clase:  0\n",
      "Observacion:  38 Clase:  1\n",
      "Observacion:  39 Clase:  2\n",
      "Observacion:  40 Clase:  0\n",
      "Observacion:  41 Clase:  0\n",
      "Observacion:  42 Clase:  2\n",
      "Observacion:  43 Clase:  1\n",
      "Observacion:  44 Clase:  0\n",
      "Observacion:  45 Clase:  2\n",
      "Observacion:  46 Clase:  0\n",
      "Observacion:  47 Clase:  0\n",
      "Observacion:  48 Clase:  1\n",
      "Observacion:  49 Clase:  2\n",
      "Observacion:  50 Clase:  1\n",
      "Observacion:  51 Clase:  0\n",
      "Observacion:  52 Clase:  0\n",
      "Observacion:  53 Clase:  1\n",
      "Observacion:  54 Clase:  0\n",
      "Observacion:  55 Clase:  1\n",
      "Observacion:  56 Clase:  0\n",
      "Observacion:  57 Clase:  0\n",
      "Observacion:  58 Clase:  0\n",
      "Observacion:  59 Clase:  2\n",
      "Observacion:  60 Clase:  0\n",
      "Observacion:  61 Clase:  0\n",
      "Observacion:  62 Clase:  1\n",
      "Observacion:  63 Clase:  0\n",
      "Observacion:  64 Clase:  0\n",
      "Observacion:  65 Clase:  0\n",
      "Observacion:  66 Clase:  1\n",
      "Observacion:  67 Clase:  0\n",
      "Observacion:  68 Clase:  2\n",
      "Observacion:  69 Clase:  2\n",
      "Observacion:  70 Clase:  0\n",
      "Observacion:  71 Clase:  2\n",
      "Observacion:  72 Clase:  1\n",
      "Observacion:  73 Clase:  1\n",
      "Observacion:  74 Clase:  0\n",
      "Observacion:  75 Clase:  0\n",
      "Observacion:  76 Clase:  0\n",
      "Observacion:  77 Clase:  0\n",
      "Observacion:  78 Clase:  2\n",
      "Observacion:  79 Clase:  0\n",
      "Observacion:  80 Clase:  1\n",
      "Observacion:  81 Clase:  1\n",
      "Observacion:  82 Clase:  2\n",
      "Observacion:  83 Clase:  1\n",
      "Observacion:  84 Clase:  0\n",
      "Observacion:  85 Clase:  1\n",
      "Observacion:  86 Clase:  0\n",
      "Observacion:  87 Clase:  1\n",
      "Observacion:  88 Clase:  0\n",
      "Observacion:  89 Clase:  0\n",
      "Observacion:  90 Clase:  1\n",
      "Observacion:  91 Clase:  2\n"
     ]
    },
    {
     "data": {
      "image/png": "[encoded data removed]",
      "text/plain": [
       "<matplotlib.figure.Figure at 0x64c8aad400>"
      ]
     },
     "metadata": {},
     "output_type": "display_data"
    }
   ],
   "source": [
    "# para las caracteristicas que estan bienclasificadas, las aplico un clustering a los datos, logrando asi que todas\n",
    "# pertenezcan a una clase en particular. \n",
    "     \n",
    "num_cluster = 3\n",
    "\n",
    "#init establece el método de localizacion inicial de los centroides\n",
    "modelo_kmeans= KMeans(init = 'k-means++',n_clusters = num_cluster)\n",
    "\n",
    "#entrenar el modelo \n",
    "modelo_kmeans.fit(X)\n",
    "\n",
    "#centros q vamos a manejar\n",
    "centroides = modelo_kmeans.cluster_centers_ \n",
    "labels = modelo_kmeans.labels_\n",
    "\n",
    "#print(centroides)\n",
    "#print(labels)\n",
    "\n",
    "for i in range(len(X)):\n",
    "    print(\"Observacion: \", i, \"Clase: \",labels[i])\n",
    "\n",
    "#para hacer las bolitas\n",
    "plt.scatter(X[:,0],X[:,1],marker='o',facecolors ='none',edgecolors = 'black',s =80)\n",
    "\n",
    "#dibujar las bolitas\n",
    "plt.scatter(centroides[:,0],centroides[:,1],marker = '*',s=210,linewidths = 4,facecolors='pink')\n",
    "\n",
    "plt.title('Limites de los grupos')\n",
    "plt.xlim(x_min,x_max)\n",
    "plt.ylim(y_min,y_max)\n",
    "\n",
    "plt.xticks(())\n",
    "plt.yticks(())\n",
    "plt.show()\n"
   ]
  },
  {
   "cell_type": "code",
   "execution_count": 130,
   "metadata": {},
   "outputs": [
    {
     "name": "stdout",
     "output_type": "stream",
     "text": [
      "Observacion:  0 Clase:  0\n",
      "Observacion:  1 Clase:  0\n",
      "Observacion:  2 Clase:  2\n",
      "Observacion:  3 Clase:  0\n",
      "Observacion:  4 Clase:  1\n",
      "Observacion:  5 Clase:  2\n",
      "Observacion:  6 Clase:  2\n",
      "Observacion:  7 Clase:  0\n"
     ]
    }
   ],
   "source": [
    "## ahora ya tenemos clasificadas las caracteristicas de la forma\n",
    "## correcta, nos falta las que no tenian bien definidas las \n",
    "## etiquetas entonces hacemos lo mismo\n",
    "\n",
    "# para las caracteristicas que no quedan bien clasificadas, las aplico un clustering a los datos, logrando asi que todas\n",
    "# pertenezcan a una clase en particular. \n",
    "     \n",
    "num_cluster = 3\n",
    "\n",
    "\n",
    "#init establece el método de localizacion inicial de los centroides\n",
    "modelo_kmeans_sin_clase= KMeans(init = 'k-means++',n_clusters = num_cluster)\n",
    "\n",
    "#entrenar el modelo \n",
    "modelo_kmeans_sin_clase.fit(Sin_Clase)\n",
    "\n",
    "#centros q vamos a manejar\n",
    "centroides_sin_clase = modelo_kmeans_sin_clase.cluster_centers_ \n",
    "labels_sin_clase = modelo_kmeans_sin_clase.labels_\n",
    "\n",
    "#print(centroides)\n",
    "#print(labels)\n",
    "\n",
    "for i in range(len(Sin_Clase)):\n",
    "    print(\"Observacion: \", i, \"Clase: \",labels_sin_clase[i])\n",
    "   \n",
    "\n"
   ]
  },
  {
   "cell_type": "code",
   "execution_count": 131,
   "metadata": {},
   "outputs": [],
   "source": [
    "#Unimos los datos en un solo conjunto y con una sola clase asociada\n",
    "X_Nuevo = []\n",
    "Y_Nuevo = []\n",
    "for i in range(len(X)):\n",
    "    X_Nuevo.append(X[i])\n",
    "    Y_Nuevo.append(labels[i])\n",
    "    \n",
    "for j in range(len(Sin_Clase)):\n",
    "    X_Nuevo.append(Sin_Clase[j])\n",
    "    Y_Nuevo.append(labels_sin_clase[j])\n",
    "\n"
   ]
  },
  {
   "cell_type": "code",
   "execution_count": 132,
   "metadata": {},
   "outputs": [
    {
     "name": "stdout",
     "output_type": "stream",
     "text": [
      "Las muestras bien clasificadas fueron de 27 \n"
     ]
    }
   ],
   "source": [
    "# Ahora que nuestro problema es de una sola clase, aplicamos \n",
    "# Un metodo de preprocesamiento. \n",
    "\n",
    "X = np.asarray(X_Nuevo)\n",
    "X_train , X_test , y_train , y_test = train_test_split(X,Y_Nuevo,test_size=0.3, random_state = 0)\n",
    "\n",
    "#Remoción para x_train\n",
    "def Remocion(X):\n",
    "    med = X.mean(axis=0)\n",
    "    des = X.std(axis=0)\n",
    "    X = X - med\n",
    "    X = X/des\n",
    "    return X,med, des\n",
    "\n",
    "#Remocion para x_test\n",
    "def Remocion_test(X,med,des):\n",
    "    X = X - med\n",
    "    X = X/des\n",
    "    return X\n",
    "\n",
    "\n",
    "#nomralizacion de x_train\n",
    "x_norm_train,t_train_mean,t_train_desv = Remocion(X_train)\n",
    "#Normalizacion para x_test\n",
    "x_norm_test = Remocion_test(X_test,t_train_mean,t_train_desv)\n",
    "\n",
    "#Entrenamos el clasificador\n",
    "clasificador = LogisticRegression(C=0.1,random_state=0) # C es el parametro\n",
    "clasificador.fit(x_norm_train, y_train) # entrenamiento del clasificador\n",
    "\n",
    "# para validar el clasificador\n",
    "y_pred = clasificador.predict(x_norm_test)\n",
    "#numero de muestras mal clasificadas\n",
    "print('Las muestras bien clasificadas fueron de %d '%(y_test == y_pred).sum())"
   ]
  }
 ],
 "metadata": {
  "kernelspec": {
   "display_name": "Python 3",
   "language": "python",
   "name": "python3"
  },
  "language_info": {
   "codemirror_mode": {
    "name": "ipython",
    "version": 3
   },
   "file_extension": ".py",
   "mimetype": "text/x-python",
   "name": "python",
   "nbconvert_exporter": "python",
   "pygments_lexer": "ipython3",
   "version": "3.6.1"
  }
 },
 "nbformat": 4,
 "nbformat_minor": 2
}
