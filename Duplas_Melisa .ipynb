{
 "cells": [
  {
   "cell_type": "code",
   "execution_count": 11,
   "metadata": {},
   "outputs": [
    {
     "name": "stdout",
     "output_type": "stream",
     "text": [
      "El acc del clasificador es del  99.1666666667 %\n"
     ]
    }
   ],
   "source": [
    "# Mejores Duplas\n",
    "\n",
    "# importamos las librerias\n",
    "import numpy as np\n",
    "import matplotlib.pyplot as plt\n",
    "from sklearn.naive_bayes import GaussianNB #importar libreria del clasificador \n",
    "from sklearn import cross_validation #Libreria para las utilidades de conjunto de \n",
    "\n",
    "# importamos los datos desde el archivo o de texto plano separao por comas\n",
    "archivo_entrada = 'Data.txt' #nombre del archivo\n",
    "datos = np.loadtxt(archivo_entrada,delimiter=',') #cargamos los datos en la variable \"datos\"\n",
    "\n",
    "\n",
    "# Pista para separar las clases\n",
    "index = datos[:,-1] == 0\n",
    "index1 = datos[:,-1] == 1\n",
    "index2 = datos[:,-1] == 2\n",
    "index3 = datos[:,-1] == 3\n",
    "\n",
    "#print(datos[index,:])\n",
    "\n",
    "# Mejor estimacion\n",
    "# Hacemos la funcion de remoción de la media\n",
    "#Remoción para x_train\n",
    "def Remocion(X):\n",
    "    med = X.mean(axis=0)\n",
    "    des = X.std(axis=0)\n",
    "    X = X - med\n",
    "    X = X/des\n",
    "    return X,med, des\n",
    "\n",
    "#Remocion para x_test\n",
    "def Remocion_test(X,med,des):\n",
    "    X = X - med\n",
    "    X = X/des\n",
    "    return X\n",
    "\n",
    "# Combinaciones\n",
    "#data =  np.concatenate((datos[index,:],datos[index1,:]),axis=0)\n",
    "#data =  np.concatenate((datos[index,:],datos[index2,:]),axis=0)\n",
    "#data =  np.concatenate((datos[index,:],datos[index3,:]),axis=0)\n",
    "\n",
    "#data =  np.concatenate((datos[index1,:],datos[index,:]),axis=0)\n",
    "#data =  np.concatenate((datos[index1,:],datos[index2,:]),axis=0)\n",
    "#data =  np.concatenate((datos[index1,:],datos[index3,:]),axis=0)\n",
    "\n",
    "#data =  np.concatenate((datos[index2,:],datos[index,:]),axis=0)\n",
    "#data =  np.concatenate((datos[index2,:],datos[index1,:]),axis=0)\n",
    "data =  np.concatenate((datos[index2,:],datos[index3,:]),axis=0)\n",
    "\n",
    "# separar conjunto de datos\n",
    "X,y =datos[:,:-1],datos[:,-1]\n",
    "\n",
    "X_train,X_test,y_train,y_test = cross_validation.train_test_split(X,y,test_size=0.3,random_state=0)\n",
    "\n",
    "#nomralizacion de x_train\n",
    "x_train,t_train_mean,t_train_desv = Remocion(X_train)\n",
    "#Normalizacion para x_test\n",
    "x_test = Remocion_test(X_test,t_train_mean,t_train_desv)\n",
    "\n",
    "#generar el clasificador\n",
    "clasificador = GaussianNB() #instanciamos y luego entrenamos\n",
    "clasificador.fit(x_train, y_train) #entrenamos el clasificador\n",
    "\n",
    "\n",
    "#hacer la predicion\n",
    "y_predict = clasificador.predict(x_test)\n",
    "acc = 100.0*(y_predict == y_test).sum()/x_test.shape[0] #para calcular el acierto del clasificador\n",
    "print('El acc del clasificador es del ',acc, '%')"
   ]
  }
 ],
 "metadata": {
  "kernelspec": {
   "display_name": "Python 3",
   "language": "python",
   "name": "python3"
  },
  "language_info": {
   "codemirror_mode": {
    "name": "ipython",
    "version": 3
   },
   "file_extension": ".py",
   "mimetype": "text/x-python",
   "name": "python",
   "nbconvert_exporter": "python",
   "pygments_lexer": "ipython3",
   "version": "3.6.1"
  }
 },
 "nbformat": 4,
 "nbformat_minor": 2
}
