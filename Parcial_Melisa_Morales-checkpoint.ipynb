{
 "cells": [
  {
   "cell_type": "code",
   "execution_count": 102,
   "metadata": {},
   "outputs": [],
   "source": [
    "from sklearn import datasets\n",
    "from sklearn.linear_model import LogisticRegression   #Importa las fxn de validacion cruzadas\n",
    "from sklearn.cross_validation import train_test_split #Importa las funciones de validación cruzada\n",
    "from sklearn.preprocessing import StandardScaler      #Importar las funciones de preparacion\n",
    "import numpy as np\n",
    "\n",
    "X,Y = datasets.make_multilabel_classification(n_samples=100, n_features=10, n_classes=3, n_labels=1, length=50, allow_unlabeled=False, sparse=False, return_indicator='dense',return_distributions=False, random_state=None)\n",
    "#print(Y)"
   ]
  },
  {
   "cell_type": "code",
   "execution_count": 108,
   "metadata": {},
   "outputs": [
    {
     "name": "stdout",
     "output_type": "stream",
     "text": [
      "59\n"
     ]
    }
   ],
   "source": [
    "\n",
    "# Esta funcion se utiliza para dividir los elementos por clases. No es la sulocion mas rapida, ya que en cada iteraccion del ciclo,\n",
    "# se pueden combinar varias caracteristicas, y no hay etiqueta que pertenezca exactamente a una clase.  \n",
    "# lo separa en 3 tipos de clases y donde todas las etiquetas son 1 o 0 las dejo en la misma clase. \n",
    "Clase_1 = []\n",
    "Clase_2 = []\n",
    "Clase_3 = []\n",
    "Sin_Clase = []\n",
    "\n",
    "for i in range(100):\n",
    "    dato_i = Y[i]\n",
    "    # comparp si pertenece la caracteristica a la clase, si es el caso, las caracteristicas las paso a una nueva lista con las \n",
    "    # etiquetas de cada clase.\n",
    "    if (dato_i[0] == 0 and dato_i[1] == 0 and dato_i[2] == 1) or (dato_i[0] == 0 and dato_i[1] == 1 and dato_i[2] == 1) or (dato_i[0] == 1 and dato_i[1] == 1 and dato_i[2] == 0):\n",
    "        Clase_3.append(X[i])\n",
    "    \n",
    "    if (dato_i[0] == 0 and dato_i[1] == 1 and dato_i[2] == 0) or (dato_i[0] == 0 and dato_i[1] == 1 and dato_i[2] == 1) or (dato_i[0] == 1 and dato_i[1] == 1 and dato_i[2] == 0):\n",
    "        Clase_2.append(X[i])\n",
    "        \n",
    "    if (dato_i[0] == 1 and dato_i[1] ==0  and dato_i[2] == 0) or (dato_i[0] ==1 and dato_i[1] == 1 and dato_i[2] == 0) or (dato_i[0] == 1 and dato_i[1] == 0 and dato_i[2] == 1):\n",
    "        Clase_1.append(X[i])\n",
    "    # si las caracteristicas no pertenecen a ninguna clase, es decir o que partenecen a todas o a ninguna, entonces las dejamos \n",
    "    # aparte para volverlas a clasificar.\n",
    "    if (dato_i[0] == 0 and dato_i[1] == 0 and dato_i[2] == 0) or (dato_i[0] == 1 and dato_i[1] == 1 and dato_i[2] == 1):\n",
    "        Sin_Clase.append(X[i])\n",
    "        \n",
    "print(len(Clase_3))"
   ]
  },
  {
   "cell_type": "code",
   "execution_count": 110,
   "metadata": {},
   "outputs": [
    {
     "data": {
      "text/html": [
       "<div>\n",
       "<style>\n",
       "    .dataframe thead tr:only-child th {\n",
       "        text-align: right;\n",
       "    }\n",
       "\n",
       "    .dataframe thead th {\n",
       "        text-align: left;\n",
       "    }\n",
       "\n",
       "    .dataframe tbody tr th {\n",
       "        vertical-align: top;\n",
       "    }\n",
       "</style>\n",
       "<table border=\"1\" class=\"dataframe\">\n",
       "  <thead>\n",
       "    <tr style=\"text-align: right;\">\n",
       "      <th></th>\n",
       "      <th></th>\n",
       "      <th>col_0</th>\n",
       "      <th>0</th>\n",
       "      <th>1</th>\n",
       "      <th>2</th>\n",
       "    </tr>\n",
       "    <tr>\n",
       "      <th>row_0</th>\n",
       "      <th>row_1</th>\n",
       "      <th>row_2</th>\n",
       "      <th></th>\n",
       "      <th></th>\n",
       "      <th></th>\n",
       "    </tr>\n",
       "  </thead>\n",
       "  <tbody>\n",
       "    <tr>\n",
       "      <th>clase1</th>\n",
       "      <th>clase2</th>\n",
       "      <th>Clase3</th>\n",
       "      <td>2</td>\n",
       "      <td>4</td>\n",
       "      <td>2</td>\n",
       "    </tr>\n",
       "  </tbody>\n",
       "</table>\n",
       "</div>"
      ],
      "text/plain": [
       "col_0                 0  1  2\n",
       "row_0  row_1  row_2          \n",
       "clase1 clase2 Clase3  2  4  2"
      ]
     },
     "execution_count": 110,
     "metadata": {},
     "output_type": "execute_result"
    }
   ],
   "source": [
    "# para las caracteristicas que no quedan bien clasificadas, las aplico un clustering a los datos, logrando asi que todas\n",
    "# pertenezcan a una clase en particular. \n",
    "from sklearn.cluster import KMeans\n",
    "from sklearn import cluster\n",
    "\n",
    "X = Sin_Clase               \n",
    "Y = Y               \n",
    "\n",
    "num_cluster = 3\n",
    "\n",
    "#init establece el método de localizacion inicial de los centroides\n",
    "modelo_kmeans= KMeans(init = 'k-means++',n_clusters = num_cluster)\n",
    "\n",
    "#entrenar el modelo \n",
    "modelo_kmeans.fit(X)\n",
    "\n",
    "#centros\n",
    "centroides = modelo_kmeans.cluster_centers_\n",
    "\n",
    "Kmod = modelo_kmeans.labels_\n",
    "\n",
    "#pruebas de comprobacion de las etiquetas con los centroides\n",
    "import pandas  as pd \n",
    "pd.crosstab(y,Kmod)"
   ]
  }
 ],
 "metadata": {
  "kernelspec": {
   "display_name": "Python 3",
   "language": "python",
   "name": "python3"
  },
  "language_info": {
   "codemirror_mode": {
    "name": "ipython",
    "version": 3
   },
   "file_extension": ".py",
   "mimetype": "text/x-python",
   "name": "python",
   "nbconvert_exporter": "python",
   "pygments_lexer": "ipython3",
   "version": "3.6.1"
  }
 },
 "nbformat": 4,
 "nbformat_minor": 2
}
