{
 "cells": [
  {
   "cell_type": "markdown",
   "metadata": {},
   "source": [
    "# Sistemas de Recomendacion\n",
    "\n",
    "1. Pipeline: Tuberia o fila\n",
    "\n",
    "\n",
    "    * modulo1: \n",
    "    \n",
    "          Selector de caractericticas. \n",
    "    \n",
    "          k-caracteristicas más relevantes.\n",
    "    \n",
    "    * Modulo 2: \n",
    "            \n",
    "            Clasificador de bosques aleatorios.\n",
    "    \n",
    "2. Vecinos mas cercanos: \n",
    "\n",
    "\n",
    "            mirar con respecto a alguna distancia mirar cuales son los vecinos mas cercanos. \n",
    "\n",
    "            Algoritmos que divide por medianas: [x1,x2,x3,x4,x5], selecciona un dato de forma aleatoria: x4, coloca los datos <- menores y -> mayores \n",
    "            se hace como un a especie de arbol. \n",
    "\n",
    "3. Clasificador de vecinos mas cercanos.(K-NN)\n",
    "\n",
    "\n",
    "        k-vecinos mas cercanos. Me dice cual se parece mas a mi.\n",
    "\n"
   ]
  },
  {
   "cell_type": "markdown",
   "metadata": {},
   "source": [
    "# Construccion de un sistema de recomendacion\n",
    "\n",
    "## Construccion de un *pipeline* (Filtro)"
   ]
  },
  {
   "cell_type": "code",
   "execution_count": 2,
   "metadata": {},
   "outputs": [],
   "source": [
    "# Importamos las librerias\n",
    "\n",
    "from sklearn.datasets import samples_generator # generamos un toyset\n",
    "from sklearn.feature_selection import SelectKBest, f_regression # coger el q realiza la mejor regresion\n",
    "from sklearn.pipeline import Pipeline\n",
    "from sklearn.ensemble import ExtraTreesClassifier"
   ]
  },
  {
   "cell_type": "code",
   "execution_count": 10,
   "metadata": {},
   "outputs": [
    {
     "name": "stdout",
     "output_type": "stream",
     "text": [
      "[0 2 2 0 2 0 2 1 0 1 1 2 1 0 2 2 1 0 0 1 0 1 0 1 2 2 0 0 1 0 1 2 1 0 2 2 1\n",
      " 1 2 2 2 0 0 0 2 1 1 2 1 0 1 2 2 1 2 0 2 2 0 2 2 0 1 0 2 1 1 1 1 2 0 1 0 2\n",
      " 0 0 1 2 2 0 0 1 0 2 2 0 0 0 2 2 2 1 2 0 2 0 2 0 0 0 1 1 1 1 2 2 2 2 0 1 1\n",
      " 0 2 1 1 0 1 1 1 1 0 0 0 1 2 0 0 0 2 1 2 0 0 1 0 1 1 0 1 1 1 1 2 2 0 1 1 0\n",
      " 2 2]\n"
     ]
    }
   ],
   "source": [
    "# Genrar un toyset\n",
    "# 150 observaciones\n",
    "# 25 caracteristicas cada 1: 6 sirven (informativas) , ninguna es redundante\n",
    "\n",
    "# n_samples = observaciones\n",
    "# n_features = caracteristicas\n",
    "X,y = samples_generator.make_classification(n_samples = 150,n_features = 25,n_classes = 3, n_informative =6, n_redundant = 0, random_state = 7)\n",
    "\n",
    "print(y)"
   ]
  },
  {
   "cell_type": "markdown",
   "metadata": {},
   "source": [
    "## 1. Pipeline: Tuberia o Filtro"
   ]
  },
  {
   "cell_type": "code",
   "execution_count": 20,
   "metadata": {},
   "outputs": [
    {
     "name": "stdout",
     "output_type": "stream",
     "text": [
      "[1 2 2 0 2 0 2 1 0 0 1 2 1 0 2 2 1 0 0 1 0 2 1 1 2 2 0 0 1 2 0 2 1 0 2 2 1\n",
      " 1 2 2 2 0 1 0 2 1 1 2 1 0 1 2 2 2 2 0 2 2 0 2 2 0 1 0 2 2 1 1 1 2 0 0 0 2\n",
      " 0 0 1 1 2 0 0 1 2 2 0 0 0 0 2 2 2 1 2 0 2 1 2 2 0 0 1 1 1 1 2 1 0 2 0 1 1\n",
      " 0 2 1 0 0 1 1 1 1 0 0 0 1 2 0 0 0 2 1 2 0 0 1 0 1 1 0 1 1 1 1 2 2 0 1 2 0\n",
      " 2 2]\n",
      "El score del pipeline es:  0.873333333333\n",
      "[False False False False  True False False  True  True False False False\n",
      "  True False  True False False  True False False False False  True False\n",
      " False]\n",
      "Las caracteristicas son las numero:  [4, 7, 8, 12, 14, 17, 22]\n",
      "Los indices son:  4 7 8 12 14 17 22\n"
     ]
    }
   ],
   "source": [
    "# creamos el primer módulo de pipeline, selector de catacteristicas\n",
    "selector = SelectKBest(f_regression,k=9)\n",
    "\n",
    "# Creamos el segundo módulo de pipeline, clasificador BEA\n",
    "# va a tener, 60 arboles, con 4 ramas o niveles\n",
    "clasificador = ExtraTreesClassifier(n_estimators = 60, max_depth = 4)\n",
    "\n",
    "# Creamos la tubería.\n",
    "pipeline = Pipeline([('selec',selector),('elegido',clasificador)])\n",
    "\n",
    "# fijamos los parametros\n",
    "# El mumero de caracteristicas va a se 7 y ya no 9\n",
    "pipeline.set_params(selec__k = 7, elegido__n_estimators = 30)\n",
    "\n",
    "\n",
    "# Entrenamos la tuberia\n",
    "# para hacerlo juiciosos, la forma correcta de hacerlo es separar los datos en train y test\n",
    "# pipeline.fit(X_train,y)\n",
    "pipeline.fit(X,y)\n",
    "# Predecimos las salidas\n",
    "#salida = pipeline.predict(X_test)\n",
    "# salida sería y_test\n",
    "salida = pipeline.predict(X)\n",
    "print(salida)\n",
    "\n",
    "# Evaluamos la efectividad o eficiencia\n",
    "# Score mide la eficiencia entre 0-1\n",
    "print(\"El score del pipeline es: \",pipeline.score(X,y))\n",
    "\n",
    "#----------------------------------------------------------------------------------\n",
    "# Es carpinteria, cuando se quiere profundizar en los datos\n",
    "\n",
    "# Revisar las caracteristicas del selector\n",
    "# named_steps con las caracteristicas que elegimos\n",
    "status = pipeline.named_steps['selec'].get_support()\n",
    "print(status)\n",
    "\n",
    "# Para mostrar las caracteristicas que si sirven o q fueron true\n",
    "carac_selec = [i for i,x in enumerate(status) if x]\n",
    "print('Las caracteristicas son las numero: ',carac_selec)\n",
    "print('Los indices son: ', ' '.join([str(x) for x in carac_selec]))\n",
    "\n",
    "#-----------------------------------------------------------------------------------------"
   ]
  },
  {
   "cell_type": "markdown",
   "metadata": {},
   "source": [
    "## 2. Algoritmo Nearest - Neighbors NN"
   ]
  },
  {
   "cell_type": "code",
   "execution_count": 21,
   "metadata": {
    "collapsed": true
   },
   "outputs": [],
   "source": [
    "# Importamos librerías\n",
    "import numpy as np\n",
    "import matplotlib.pyplot as plt\n",
    "from sklearn.neighbors import NearestNeighbors"
   ]
  },
  {
   "cell_type": "code",
   "execution_count": 28,
   "metadata": {},
   "outputs": [
    {
     "data": {
      "text/plain": [
       "<matplotlib.figure.Figure at 0x151737d1cc0>"
      ]
     },
     "metadata": {},
     "output_type": "display_data"
    },
    {
     "data": {
      "image/png": "[encoded data removed]",
      "text/plain": [
       "<matplotlib.figure.Figure at 0x15173800b70>"
      ]
     },
     "metadata": {},
     "output_type": "display_data"
    }
   ],
   "source": [
    "# Creamos un toyset de 2D, Para graficar\n",
    "X = np.array([[2.1,1.3],[1.3,3.2],[2.9,2.5],[2.7,5.4],[3.8,0.9],[7.3,2.1],[4.2,6.5],[3.8,3.7],[2.5,4.1],[3.4,1.9],[5.7,3.5],[6.1,4.3],[5.1,2.2],[6.2,1.1]])\n",
    "#print(X)\n",
    "# Definimos el numero de vecinos \n",
    "k = 5\n",
    "# Creamos una muestra para el test\n",
    "test = [4.3,2.7]\n",
    "\n",
    "# ----------------------------------------------------------\n",
    "# Carpinteria: \n",
    "# Graficamos los datos de entrada\n",
    "plt.figure()\n",
    "plt.title('Datos de entrada')\n",
    "plt.scatter( X[:,0] , X[:,1] , marker = '*', s = 75 , color = 'pink' )\n",
    "plt.show()\n",
    "\n",
    "# -------------------------------------------------------------"
   ]
  },
  {
   "cell_type": "code",
   "execution_count": 38,
   "metadata": {},
   "outputs": [
    {
     "name": "stderr",
     "output_type": "stream",
     "text": [
      "C:\\Users\\llondono2\\Anaconda3\\lib\\site-packages\\sklearn\\utils\\validation.py:395: DeprecationWarning: Passing 1d arrays as data is deprecated in 0.17 and will raise ValueError in 0.19. Reshape your data either using X.reshape(-1, 1) if your data has a single feature or X.reshape(1, -1) if it contains a single sample.\n",
      "  DeprecationWarning)\n"
     ]
    },
    {
     "name": "stdout",
     "output_type": "stream",
     "text": [
      "Los k vecinos más cercanos son: \n",
      "1 ===> [ 5.1  2.2]\n",
      "2 ===> [ 3.8  3.7]\n",
      "3 ===> [ 3.4  1.9]\n",
      "4 ===> [ 2.9  2.5]\n",
      "5 ===> [ 5.7  3.5]\n"
     ]
    },
    {
     "data": {
      "image/png": "[encoded data removed]",
      "text/plain": [
       "<matplotlib.figure.Figure at 0x15173bdf3c8>"
      ]
     },
     "metadata": {},
     "output_type": "display_data"
    }
   ],
   "source": [
    "# Creamos el modelo de NN\n",
    "# el algoritmo para \n",
    "modelo_nn = NearestNeighbors(n_neighbors = k, algorithm = 'ball_tree').fit(X)\n",
    "distancias, indices = modelo_nn.kneighbors(test)\n",
    "\n",
    "# -----------------------------------------------------------------------------\n",
    "# imprimimos los vecinos más cercanos más bonitos\n",
    "print('Los k vecinos más cercanos son: ')\n",
    "for rank, index in enumerate(indices[0][:k], start = 1):\n",
    "    print(str(rank) + ' ===>', X[index])\n",
    "\n",
    "# Visualizamos el resultado del algoritmo\n",
    "plt.figure()\n",
    "plt.title('Vecinos más cercanos')\n",
    "plt.scatter( X[:,0] , X[:,1] , marker = '*', s = 75 , color = 'pink' )\n",
    "plt.scatter(X[indices][0][:][:,0] ,  X[indices][0][:][:,1] , marker = '*', s = 250,color = 'blue',facecolors = 'none' )\n",
    "plt.scatter(test[0],test[1],marker = 'X', s = 75 , color = 'k')\n",
    "plt.show()\n",
    "\n",
    "#---------------------------------------------------------------------------- \n"
   ]
  },
  {
   "cell_type": "markdown",
   "metadata": {},
   "source": [
    "## 3. Algortimo para clasificar K-NN"
   ]
  },
  {
   "cell_type": "code",
   "execution_count": 40,
   "metadata": {},
   "outputs": [],
   "source": [
    "# Cargamos librerías \n",
    "import numpy as np \n",
    "import matplotlib.pyplot as plt\n",
    "import matplotlib.cm as cm # mapa de color\n",
    "from sklearn import neighbors, datasets"
   ]
  },
  {
   "cell_type": "code",
   "execution_count": 48,
   "metadata": {},
   "outputs": [
    {
     "data": {
      "image/png": "[encoded data removed]",
      "text/plain": [
       "<matplotlib.figure.Figure at 0x15173a79470>"
      ]
     },
     "metadata": {},
     "output_type": "display_data"
    }
   ],
   "source": [
    "# cargamos los datos\n",
    "archivo = 'data_knn.txt'\n",
    "data = np.genfromtxt(archivo,delimiter = ',',skip_header = True)\n",
    "X,y = data[:,:-1],data[:,-1].astype(np.int)\n",
    "#print(y)\n",
    "\n",
    "# ----------------------------------------------------------------------\n",
    "# Solo para estos datos\n",
    "plt.figure()\n",
    "plt.title('Datos de entrada')\n",
    "marcadores = 'v^os'\n",
    "# para repetir esta secuencias para llegar al tamaño\n",
    "mapper = [marcadores[i] for i in y]\n",
    "#print(mapper)\n",
    "for i in range(X.shape[0]):\n",
    "    plt.scatter(X[i,0], X[i,1], marker = mapper[i], s = 75, edgecolors = 'blue', facecolors = 'pink')\n",
    "plt.show()\n"
   ]
  }
 ],
 "metadata": {
  "kernelspec": {
   "display_name": "Python 3",
   "language": "python",
   "name": "python3"
  },
  "language_info": {
   "codemirror_mode": {
    "name": "ipython",
    "version": 3
   },
   "file_extension": ".py",
   "mimetype": "text/x-python",
   "name": "python",
   "nbconvert_exporter": "python",
   "pygments_lexer": "ipython3",
   "version": "3.6.1"
  }
 },
 "nbformat": 4,
 "nbformat_minor": 2
}
