{
 "cells": [
  {
   "cell_type": "code",
   "execution_count": 1,
   "metadata": {},
   "outputs": [
    {
     "data": {
      "text/plain": [
       "10"
      ]
     },
     "execution_count": 1,
     "metadata": {},
     "output_type": "execute_result"
    }
   ],
   "source": [
    "5 + 5 "
   ]
  },
  {
   "cell_type": "code",
   "execution_count": 2,
   "metadata": {},
   "outputs": [
    {
     "name": "stdout",
     "output_type": "stream",
     "text": [
      "Ingresa un número: 13.80\n",
      "1101\n",
      "11001100\n"
     ]
    }
   ],
   "source": [
    "b = float(input('Ingresa un número: '))\n",
    "e = int(b)\n",
    "d = b-e\n",
    "num = \"\"\n",
    "while (e > 0):\n",
    "    num = num + str(e % 2)\n",
    "    e = e // 2\n",
    "print(num[::-1])\n",
    "ban = 1\n",
    "dec = \"\"\n",
    "alis = []\n",
    "con = 0\n",
    "while (ban != 2 ):\n",
    "    d = d * 2\n",
    "    alis.append(d)\n",
    "    dec = dec + str(int(d))\n",
    "    if d == 1.0 or (con == 7 and d in alis):\n",
    "        ban = 2        \n",
    "    d = d - int(d)   \n",
    "    con = con + 1\n",
    "print(dec)"
   ]
  }
 ],
 "metadata": {
  "kernelspec": {
   "display_name": "Python 3",
   "language": "python",
   "name": "python3"
  },
  "language_info": {
   "codemirror_mode": {
    "name": "ipython",
    "version": 3
   },
   "file_extension": ".py",
   "mimetype": "text/x-python",
   "name": "python",
   "nbconvert_exporter": "python",
   "pygments_lexer": "ipython3",
   "version": "3.6.1"
  }
 },
 "nbformat": 4,
 "nbformat_minor": 2
}
