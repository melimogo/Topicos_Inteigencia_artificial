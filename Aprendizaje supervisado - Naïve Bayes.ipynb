{
 "cells": [
  {
   "cell_type": "markdown",
   "metadata": {},
   "source": [
    "# Naïve Bayes\n",
    "\n",
    "Se basa en la teoría de probabilidades de bayes y en el cporncipio de independencia de las características. Para este clasificador las caracteristicas son: \n",
    "\n",
    ">i.i.d( Independientes e idénticamente distribuidas).\n",
    "\n",
    "Generalmente con función de densidad de probabilidad Normal o Gaussiana. la idea de este clasificador es maximizar la probabilidad posterior, de tal forma que:\n",
    "\n",
    "$$\\omega_{predict} = \\arg\\max_{j=1.\\dots.m}P(\\omega_j|\\mathbf{x}_i),$$\n",
    "\n",
    "donde \n",
    ">$P(\\omega_j\\mathbf{x}_i)$ es la probabilidad posterior, esto es:\n",
    "\n",
    ">> La probabilidad de encontrar una etiqueta de clase $\\omega_j$ dado un conjunto de patrones $\\mathbf{x}_i$;\n",
    "$\\omega_{predict}$ es la etiqueta de clase determinada por el clasificador.\n",
    "\n",
    "La probabilidad posterior está dada por:\n",
    "\n",
    "$$P(\\omega_j|\\mathbf{x}_i)=\\frac{P(\\mathbf{x}_i|\\omega_j)P(\\omega_j)}{P(\\mathbf{x}_i)},$$\n",
    "\n",
    "con $P(\\mathbf{x}_i|\\omega_j)=\\prod_{k=1,\\ldots,p}P(x_{ik}|\\omega_j$ la verosimilitud, $P(\\mathbf{x}_i)$\n",
    "la evidencia y $P(\\omega_j)$ la probabilidad prior o *a priori*\n",
    "\n",
    "Para la implementación tenemos que: \n"
   ]
  },
  {
   "cell_type": "code",
   "execution_count": 19,
   "metadata": {},
   "outputs": [],
   "source": [
    "# importamos las librerias necesarias\n",
    "import numpy as np\n",
    "import matplotlib.pyplot as plt\n",
    "from sklearn.naive_bayes import GaussianNB #importar libreria del clasificador \n",
    "from sklearn import cross_validation #Libreria para las utilidades de conjunto de \n",
    "\n",
    "# para graficar las muestras\n",
    "def vizualizar_clasificador(clasificador,X,y):\n",
    "    #definimos valores maximos y minimos de la malla que vamos a graficar\n",
    "    min_x,max_x = X[:,0].min()-1.0, X[:,0].max()+1.0\n",
    "    min_y,max_y = X[:,1].min()-1.0, X[:,1].max()+1.0\n",
    "    \n",
    "    #definir el paso de la malla\n",
    "    paso = 0.01\n",
    "    \n",
    "    #definimos la malla\n",
    "    x_vals,y_vals =np.mgrid[min_x:max_x:paso, min_y:max_y:paso]\n",
    "    \n",
    "    #np.c: para concatenar los valores\n",
    "    #np.ravel: coloca todos los datos de varios arreglos o varias dimensiones en 1 sola\n",
    "    \n",
    "    #corremos el clasificador sobre la malla\n",
    "    resultados = clasificador.predict(np.c_[x_vals.ravel(),y_vals.ravel()])\n",
    "    # reordenamos la salida para que nos quede en forma de malla\n",
    "    resultados = resultados.reshape(x_vals.shape)\n",
    "    \n",
    "    #creamos la figura \n",
    "    plt.figure()\n",
    "    # Elegimos la paleta de colores(colormap)\n",
    "    plt.pcolormesh(x_vals,y_vals, resultados, cmap=plt.cm.Pastel1)\n",
    "    \n",
    "    #Ubicamos los puntos a clasificar\n",
    "    # X[:,0] es la coordenada en el eje x\n",
    "    # X[:,1] es la coordenada y\n",
    "    # c(color) define el color (c=etiquetas)\n",
    "    # s = es el tamaño de la letra(size)\n",
    "    # edgcolors = define el borde\n",
    "    # linewidth = define el ancho de las lineas\n",
    "    # cmap = define el mapa de color\n",
    "    plt.scatter(X[:,0],X[:,1],c=y,s=75, edgecolors='black',linewidth=1,cmap=plt.cm.Set3)\n",
    "    \n",
    "    #fijamos los limites para los ejes x e y\n",
    "    plt.xlim(x_vals.min(),x_vals.max())\n",
    "    plt.ylim(y_vals.min(),y_vals.max())\n",
    "    \n",
    "    #Mostramos la grafica\n",
    "    plt.show()\n",
    "    \n",
    "\n"
   ]
  },
  {
   "cell_type": "code",
   "execution_count": 36,
   "metadata": {},
   "outputs": [
    {
     "name": "stdout",
     "output_type": "stream",
     "text": [
      "El acc del clasificador es del  76.6666666667 %\n"
     ]
    },
    {
     "data": {
      "image/png": "[encoded data removed]",
      "text/plain": [
       "<matplotlib.figure.Figure at 0x191d822e2b0>"
      ]
     },
     "metadata": {},
     "output_type": "display_data"
    }
   ],
   "source": [
    "# importamos los datos desde el archivo o de texto plano separao por comas\n",
    "#archivo_entrada = 'Datos.txt' #nombre del archivo\n",
    "#datos = np.loadtxt(archivo_entrada,delimiter=',') #cargamos los datos en la variable \"datos\"\n",
    "#X,y =datos[:,:-1],datos[:,-1]\n",
    "\n",
    "from sklearn import datasets\n",
    "iris = datasets.load_iris()   #Se carga la base de datos\n",
    "X = iris.data[:,[0,1]]        #La matriz de datos (solo se toman 2 carac. para la visualización)\n",
    "y = iris.target               #las etiquetas\n",
    "\n",
    "X_train,X_test,y_train,y_test = cross_validation.train_test_split(X,y,test_size=0.2,random_state=3)\n",
    "\n",
    "#Remoción para x_train\n",
    "def Remocion(X):\n",
    "    med = X.mean(axis=0)\n",
    "    des = X.std(axis=0)\n",
    "    X = X - med\n",
    "    X = X/des\n",
    "    return X,med, des\n",
    "\n",
    "#Remocion para x_test\n",
    "def Remocion_test(X,med,des):\n",
    "    X = X - med\n",
    "    X = X/des\n",
    "    return X\n",
    "\n",
    "\n",
    "#nomralizacion de x_train\n",
    "x_norm_train,t_train_mean,t_train_desv = Remocion(X_train)\n",
    "#Normalizacion para x_test\n",
    "x_norm_test = Remocion_test(X_test,t_train_mean,t_train_desv)\n",
    "\n",
    "\n",
    "#generar el clasificador\n",
    "clasificador = GaussianNB() #instanciamos y luego entrenamos\n",
    "clasificador.fit(x_norm_train, y_train) #entrenamos el clasificador\n",
    "\n",
    "\n",
    "#hacer la predicion\n",
    "y_predict = clasificador.predict(x_norm_test)\n",
    "acc = 100.0*(y_predict == y_test).sum()/x_norm_test.shape[0] #para calcular el acierto del clasificador\n",
    "print('El acc del clasificador es del ',acc, '%')\n",
    "vizualizar_clasificador(clasificador,x_norm_test,y_test)"
   ]
  },
  {
   "cell_type": "code",
   "execution_count": 22,
   "metadata": {},
   "outputs": [
    {
     "name": "stdout",
     "output_type": "stream",
     "text": [
      "[0 1 2]\n"
     ]
    }
   ],
   "source": []
  }
 ],
 "metadata": {
  "kernelspec": {
   "display_name": "Python 3",
   "language": "python",
   "name": "python3"
  },
  "language_info": {
   "codemirror_mode": {
    "name": "ipython",
    "version": 3
   },
   "file_extension": ".py",
   "mimetype": "text/x-python",
   "name": "python",
   "nbconvert_exporter": "python",
   "pygments_lexer": "ipython3",
   "version": "3.6.1"
  }
 },
 "nbformat": 4,
 "nbformat_minor": 2
}
